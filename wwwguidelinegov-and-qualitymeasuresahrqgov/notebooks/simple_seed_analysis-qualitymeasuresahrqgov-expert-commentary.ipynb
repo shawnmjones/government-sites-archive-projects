{
 "cells": [
  {
   "cell_type": "markdown",
   "metadata": {},
   "source": [
    "# Analysis of Expert Commentaries from qualitymeasures.ahrq.gov"
   ]
  },
  {
   "cell_type": "code",
   "execution_count": 1,
   "metadata": {},
   "outputs": [],
   "source": [
    "with open(\"../scripts/archive-status-qualitymeasuresahrqgov-expert-commentaries.uniq.mdt.tsv\") as f:\n",
    "    data = f.read()"
   ]
  },
  {
   "cell_type": "code",
   "execution_count": 2,
   "metadata": {},
   "outputs": [],
   "source": [
    "identifiers = []\n",
    "mementocounts = []\n",
    "timemaps = []\n",
    "totalcount = 0\n",
    "notarchived = []\n",
    "alldata = {}\n",
    "\n",
    "for line in data.splitlines():\n",
    "    line = line.strip()\n",
    "    row = line.split('\\t')\n",
    "    \n",
    "    if row[1] == 'ARCHIVED':\n",
    "        s2 = row[0].replace('https://qualitymeasures.ahrq.gov/expert/expert-commentary/', '')\n",
    "        identifier = int(s2[:s2.find('/')])\n",
    "#         mementocount = int(row[2].replace(\"mementos\", \"\").strip())\n",
    "        timemap = eval(row[3])\n",
    "        mementocount = len(timemap)\n",
    "        \n",
    "        identifiers.append( identifier )\n",
    "        mementocounts.append( mementocount )\n",
    "        \n",
    "        timemaps.append( timemap )\n",
    "        \n",
    "        alldata[identifier] = timemap\n",
    "        \n",
    "    elif row[1] == 'NOT ARCHIVED':\n",
    "        notarchived.append(row[0])\n",
    "        \n",
    "    totalcount += 1"
   ]
  },
  {
   "cell_type": "code",
   "execution_count": 3,
   "metadata": {},
   "outputs": [
    {
     "data": {
      "text/plain": [
       "52"
      ]
     },
     "execution_count": 3,
     "metadata": {},
     "output_type": "execute_result"
    }
   ],
   "source": [
    "len(identifiers)"
   ]
  },
  {
   "cell_type": "code",
   "execution_count": 4,
   "metadata": {},
   "outputs": [
    {
     "data": {
      "text/plain": [
       "52"
      ]
     },
     "execution_count": 4,
     "metadata": {},
     "output_type": "execute_result"
    }
   ],
   "source": [
    "len(mementocounts)"
   ]
  },
  {
   "cell_type": "code",
   "execution_count": 5,
   "metadata": {},
   "outputs": [
    {
     "data": {
      "text/plain": [
       "52"
      ]
     },
     "execution_count": 5,
     "metadata": {},
     "output_type": "execute_result"
    }
   ],
   "source": [
    "len(timemaps)"
   ]
  },
  {
   "cell_type": "code",
   "execution_count": 6,
   "metadata": {},
   "outputs": [
    {
     "data": {
      "text/plain": [
       "52"
      ]
     },
     "execution_count": 6,
     "metadata": {},
     "output_type": "execute_result"
    }
   ],
   "source": [
    "totalcount"
   ]
  },
  {
   "cell_type": "code",
   "execution_count": 7,
   "metadata": {},
   "outputs": [
    {
     "data": {
      "text/plain": [
       "0"
      ]
     },
     "execution_count": 7,
     "metadata": {},
     "output_type": "execute_result"
    }
   ],
   "source": [
    "len(notarchived)"
   ]
  },
  {
   "cell_type": "code",
   "execution_count": 8,
   "metadata": {},
   "outputs": [
    {
     "data": {
      "text/plain": [
       "0.0"
      ]
     },
     "execution_count": 8,
     "metadata": {},
     "output_type": "execute_result"
    }
   ],
   "source": [
    "len(notarchived) / totalcount"
   ]
  },
  {
   "cell_type": "code",
   "execution_count": 9,
   "metadata": {},
   "outputs": [
    {
     "data": {
      "text/plain": [
       "1.0"
      ]
     },
     "execution_count": 9,
     "metadata": {},
     "output_type": "execute_result"
    }
   ],
   "source": [
    "len(timemaps) / totalcount"
   ]
  },
  {
   "cell_type": "code",
   "execution_count": 10,
   "metadata": {},
   "outputs": [],
   "source": [
    "import matplotlib.pyplot as plt"
   ]
  },
  {
   "cell_type": "code",
   "execution_count": 11,
   "metadata": {},
   "outputs": [
    {
     "data": {
      "text/plain": [
       "7"
      ]
     },
     "execution_count": 11,
     "metadata": {},
     "output_type": "execute_result"
    }
   ],
   "source": [
    "max(mementocounts)"
   ]
  },
  {
   "cell_type": "code",
   "execution_count": 12,
   "metadata": {},
   "outputs": [
    {
     "data": {
      "text/plain": [
       "6"
      ]
     },
     "execution_count": 12,
     "metadata": {},
     "output_type": "execute_result"
    }
   ],
   "source": [
    "min(mementocounts)"
   ]
  },
  {
   "cell_type": "code",
   "execution_count": 13,
   "metadata": {},
   "outputs": [
    {
     "data": {
      "text/plain": [
       "16453"
      ]
     },
     "execution_count": 13,
     "metadata": {},
     "output_type": "execute_result"
    }
   ],
   "source": [
    "min(identifiers)"
   ]
  },
  {
   "cell_type": "code",
   "execution_count": 14,
   "metadata": {},
   "outputs": [
    {
     "data": {
      "text/plain": [
       "50333"
      ]
     },
     "execution_count": 14,
     "metadata": {},
     "output_type": "execute_result"
    }
   ],
   "source": [
    "max(identifiers)"
   ]
  },
  {
   "cell_type": "code",
   "execution_count": 15,
   "metadata": {},
   "outputs": [
    {
     "name": "stdout",
     "output_type": "stream",
     "text": [
      "counts: [ 4.  0.  0.  0.  0.  0.  0.  0.  0.  0.  0.  0.  0.  0.  0.  0.  0.  0.\n",
      "  0.  0.  0.  0.  0.  0. 48.]\n",
      "bars: [6.   6.04 6.08 6.12 6.16 6.2  6.24 6.28 6.32 6.36 6.4  6.44 6.48 6.52\n",
      " 6.56 6.6  6.64 6.68 6.72 6.76 6.8  6.84 6.88 6.92 6.96 7.  ]\n",
      "bins: <a list of 25 Patch objects>\n",
      "max counts: 48.0\n",
      "index of max counts: 24\n",
      "bars[ind]: 6.96\n"
     ]
    },
    {
     "data": {
      "image/png": "[encoded data removed]",
      "text/plain": [
       "<Figure size 432x288 with 1 Axes>"
      ]
     },
     "metadata": {},
     "output_type": "display_data"
    }
   ],
   "source": [
    "counts, bars, bins = plt.hist(mementocounts, bins=25, color=\"#b2df8a\")\n",
    "plt.xlabel(\"number of mementos\")\n",
    "plt.ylabel(\"count of URIs \\n with this number of mementos\")\n",
    "plt.title(\"Histogram of the number of mementos per URI\\nfor expert commentaries \\n at qualitymeasures.ahrq.gov\")\n",
    "print(\"counts: {}\".format(counts))\n",
    "print(\"bars: {}\".format(bars))\n",
    "print(\"bins: {}\".format(bins))\n",
    "print(\"max counts: {}\".format(max(counts)))\n",
    "ind = counts.tolist().index(max(counts))\n",
    "print(\"index of max counts: {}\".format(ind))\n",
    "print(\"bars[ind]: {}\".format(bars[ind]))"
   ]
  },
  {
   "cell_type": "code",
   "execution_count": 16,
   "metadata": {},
   "outputs": [
    {
     "data": {
      "text/plain": [
       "Text(0,0.5,'document identifier')"
      ]
     },
     "execution_count": 16,
     "metadata": {},
     "output_type": "execute_result"
    },
    {
     "data": {
      "image/png": "[encoded data removed]",
      "text/plain": [
       "<Figure size 432x288 with 1 Axes>"
      ]
     },
     "metadata": {},
     "output_type": "display_data"
    }
   ],
   "source": [
    "plt.scatter(mementocounts, identifiers)\n",
    "plt.xlabel(\"number of mementos\")\n",
    "plt.ylabel(\"document identifier\")"
   ]
  },
  {
   "cell_type": "code",
   "execution_count": 17,
   "metadata": {},
   "outputs": [],
   "source": [
    "all_mdts = []\n",
    "\n",
    "for timemap in timemaps:\n",
    "    for memento in timemap:\n",
    "        all_mdts.append(memento['datetime'])"
   ]
  },
  {
   "cell_type": "code",
   "execution_count": 18,
   "metadata": {},
   "outputs": [
    {
     "data": {
      "text/plain": [
       "360"
      ]
     },
     "execution_count": 18,
     "metadata": {},
     "output_type": "execute_result"
    }
   ],
   "source": [
    "len(all_mdts)"
   ]
  },
  {
   "cell_type": "code",
   "execution_count": 19,
   "metadata": {},
   "outputs": [
    {
     "data": {
      "text/plain": [
       "'2016-12-20T09:11:27Z'"
      ]
     },
     "execution_count": 19,
     "metadata": {},
     "output_type": "execute_result"
    }
   ],
   "source": [
    "min(all_mdts)"
   ]
  },
  {
   "cell_type": "code",
   "execution_count": 20,
   "metadata": {},
   "outputs": [
    {
     "data": {
      "text/plain": [
       "'2018-06-20T17:40:15Z'"
      ]
     },
     "execution_count": 20,
     "metadata": {},
     "output_type": "execute_result"
    }
   ],
   "source": [
    "max(all_mdts)"
   ]
  },
  {
   "cell_type": "code",
   "execution_count": 21,
   "metadata": {},
   "outputs": [],
   "source": [
    "from datetime import datetime\n",
    "\n",
    "ids2mementos = []\n",
    "mdt2ids = []\n",
    "monthbuckets = {}\n",
    "\n",
    "for identifier in alldata:\n",
    "    timemap = alldata[identifier]\n",
    "    \n",
    "    for memento in timemap:\n",
    "        \n",
    "        ids2mementos.append(identifier)\n",
    "        \n",
    "        mdt = datetime.strptime(memento['datetime'], '%Y-%m-%dT%H:%M:%SZ')\n",
    "        \n",
    "        mdt2ids.append(mdt)\n",
    "        monthbuckets.setdefault( datetime.strptime(mdt.strftime('%Y-%m'), '%Y-%m'), 0)\n",
    "        monthbuckets[ datetime.strptime(mdt.strftime('%Y-%m'), '%Y-%m') ] += 1"
   ]
  },
  {
   "cell_type": "code",
   "execution_count": 22,
   "metadata": {},
   "outputs": [
    {
     "data": {
      "image/png": "[encoded data removed]",
      "text/plain": [
       "<Figure size 432x288 with 1 Axes>"
      ]
     },
     "metadata": {},
     "output_type": "display_data"
    }
   ],
   "source": [
    "import matplotlib.dates as mdates\n",
    "\n",
    "years = mdates.YearLocator()\n",
    "months = mdates.MonthLocator()\n",
    "yearsFmt = mdates.DateFormatter('%Y-%m')\n",
    "\n",
    "fig, ax = plt.subplots()\n",
    "\n",
    "ax.scatter(mdt2ids, ids2mementos)\n",
    "\n",
    "ax.xaxis.set_major_locator(years)\n",
    "ax.xaxis.set_major_formatter(yearsFmt)\n",
    "ax.xaxis.set_minor_locator(months)\n",
    "\n",
    "fig.autofmt_xdate()"
   ]
  },
  {
   "cell_type": "code",
   "execution_count": 23,
   "metadata": {},
   "outputs": [
    {
     "name": "stdout",
     "output_type": "stream",
     "text": [
      "hi\n"
     ]
    }
   ],
   "source": [
    "print(\"hi\")"
   ]
  },
  {
   "cell_type": "code",
   "execution_count": 24,
   "metadata": {},
   "outputs": [],
   "source": [
    "x = []\n",
    "y = []\n",
    "\n",
    "for key in monthbuckets:\n",
    "    x.append(key)\n",
    "    y.append(monthbuckets[key])"
   ]
  },
  {
   "cell_type": "code",
   "execution_count": 25,
   "metadata": {},
   "outputs": [
    {
     "data": {
      "image/png": "[encoded data removed]",
      "text/plain": [
       "<Figure size 720x720 with 1 Axes>"
      ]
     },
     "metadata": {},
     "output_type": "display_data"
    }
   ],
   "source": [
    "years = mdates.YearLocator()\n",
    "months = mdates.MonthLocator()\n",
    "yearsFmt = mdates.DateFormatter('%Y-%m')\n",
    "\n",
    "fig, ax = plt.subplots()\n",
    "fig.set_size_inches(10, 10)\n",
    "\n",
    "ax.bar(x, y, width=25, color=\"#b2df8a\")\n",
    "\n",
    "ax.xaxis.set_major_locator(months)\n",
    "ax.xaxis.set_major_formatter(yearsFmt)\n",
    "# ax.xaxis.set_minor_locator(months)\n",
    "\n",
    "ax.set_xlabel(\"memento-datetimes\")\n",
    "ax.set_ylabel(\"memento count\")\n",
    "ax.set_title(\"Memento Count Per Month\\nfor expert commentaries \\n at qualitymeasures.ahrq.gov\")\n",
    "\n",
    "fig.autofmt_xdate()"
   ]
  },
  {
   "cell_type": "code",
   "execution_count": 26,
   "metadata": {},
   "outputs": [
    {
     "data": {
      "text/plain": [
       "datetime.datetime(2016, 12, 1, 0, 0)"
      ]
     },
     "execution_count": 26,
     "metadata": {},
     "output_type": "execute_result"
    }
   ],
   "source": [
    "list(monthbuckets.keys())[0]"
   ]
  },
  {
   "cell_type": "code",
   "execution_count": 27,
   "metadata": {},
   "outputs": [
    {
     "data": {
      "text/plain": [
       "52"
      ]
     },
     "execution_count": 27,
     "metadata": {},
     "output_type": "execute_result"
    }
   ],
   "source": [
    "monthbuckets[list(monthbuckets.keys())[0]]"
   ]
  },
  {
   "cell_type": "code",
   "execution_count": 28,
   "metadata": {},
   "outputs": [],
   "source": [
    "from urllib.parse import urlparse\n",
    "\n",
    "archivedomains = {}\n",
    "\n",
    "for timemap in timemaps:\n",
    "    \n",
    "    for memento in timemap:\n",
    "        urim = memento['uri']\n",
    "        archivedomain = urlparse(urim).netloc.split(':')[0]\n",
    "        archivedomains.setdefault(archivedomain, 0)\n",
    "        archivedomains[archivedomain] += 1"
   ]
  },
  {
   "cell_type": "code",
   "execution_count": 29,
   "metadata": {},
   "outputs": [
    {
     "data": {
      "text/plain": [
       "{'web.archive.org': 360}"
      ]
     },
     "execution_count": 29,
     "metadata": {},
     "output_type": "execute_result"
    }
   ],
   "source": [
    "archivedomains"
   ]
  },
  {
   "cell_type": "code",
   "execution_count": 30,
   "metadata": {},
   "outputs": [
    {
     "data": {
      "text/plain": [
       "360"
      ]
     },
     "execution_count": 30,
     "metadata": {},
     "output_type": "execute_result"
    }
   ],
   "source": [
    "total_mementos = 0\n",
    "\n",
    "for ad in archivedomains:\n",
    "    count = archivedomains[ad]\n",
    "    total_mementos += count\n",
    "    \n",
    "total_mementos"
   ]
  },
  {
   "cell_type": "code",
   "execution_count": 31,
   "metadata": {},
   "outputs": [
    {
     "data": {
      "image/png": "[encoded data removed]",
      "text/plain": [
       "<Figure size 720x720 with 1 Axes>"
      ]
     },
     "metadata": {},
     "output_type": "display_data"
    }
   ],
   "source": [
    "\"\"\"\n",
    "========\n",
    "Barchart\n",
    "========\n",
    "\n",
    "A bar plot with errorbars and height labels on individual bars\n",
    "\"\"\"\n",
    "import numpy as np\n",
    "import matplotlib.pyplot as plt\n",
    "\n",
    "N = 3\n",
    "archivecounts = (0, 360, 0)\n",
    "# men_std = (2, 3, 4, 1, 2)\n",
    "\n",
    "ind = np.arange(N)  # the x locations for the groups\n",
    "width = 0.35       # the width of the bars\n",
    "\n",
    "fig, ax = plt.subplots()\n",
    "fig.set_size_inches(10, 10)\n",
    "rects1 = ax.bar(ind, archivecounts, width, align='center', color=\"#b2df8a\")\n",
    "\n",
    "# women_means = (25, 32, 34, 20, 25)\n",
    "# women_std = (3, 5, 2, 3, 3)\n",
    "# rects2 = ax.bar(ind + width, women_means, width, color='y', yerr=women_std)\n",
    "\n",
    "# add some text for labels, title and axes ticks\n",
    "ax.set_ylabel('Count of Mementos')\n",
    "ax.set_title('Count of Mementos Per Archive\\nfor expert commentaries \\n at qualitymeasures.ahrq.gov')\n",
    "ax.set_xticks(ind)\n",
    "ax.set_xticklabels(('', 'Internet Archive', ''))\n",
    "ax.set_ylim(0, 400)\n",
    "\n",
    "# ax.legend((rects1[0], rects2[0]), ('Men', 'Women'))\n",
    "\n",
    "\n",
    "def autolabel(rects):\n",
    "    \"\"\"\n",
    "    Attach a text label above each bar displaying its height\n",
    "    \"\"\"\n",
    "    for rect in rects:\n",
    "        height = rect.get_height()\n",
    "        \n",
    "        if height != 0:\n",
    "            ax.text(rect.get_x() + rect.get_width()/2., 1.05*height,\n",
    "                    '%d' % int(height),\n",
    "                    ha='center', va='bottom')\n",
    "\n",
    "autolabel(rects1)\n",
    "# autolabel(rects2)\n",
    "\n",
    "for tick in ax.get_xticklabels():\n",
    "    tick.set_rotation(45)\n",
    "\n",
    "plt.show()"
   ]
  },
  {
   "cell_type": "code",
   "execution_count": null,
   "metadata": {},
   "outputs": [],
   "source": []
  }
 ],
 "metadata": {
  "kernelspec": {
   "display_name": "Python 3",
   "language": "python",
   "name": "python3"
  },
  "language_info": {
   "codemirror_mode": {
    "name": "ipython",
    "version": 3
   },
   "file_extension": ".py",
   "mimetype": "text/x-python",
   "name": "python",
   "nbconvert_exporter": "python",
   "pygments_lexer": "ipython3",
   "version": "3.7.0"
  }
 },
 "nbformat": 4,
 "nbformat_minor": 2
}
