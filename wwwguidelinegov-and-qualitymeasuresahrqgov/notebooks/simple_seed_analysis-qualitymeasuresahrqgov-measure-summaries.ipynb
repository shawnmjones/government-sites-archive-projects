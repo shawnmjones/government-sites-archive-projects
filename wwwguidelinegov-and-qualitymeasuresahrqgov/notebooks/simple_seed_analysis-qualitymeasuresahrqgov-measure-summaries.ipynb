{
 "cells": [
  {
   "cell_type": "markdown",
   "metadata": {},
   "source": [
    "# Analysis of Measure Summaries from qualitymeasures.ahrq.gov "
   ]
  },
  {
   "cell_type": "code",
   "execution_count": 1,
   "metadata": {},
   "outputs": [],
   "source": [
    "with open(\"../scripts/archive-status-ahrq-measure-summaries-seeds.uniq.with_mdt.tsv\") as f:\n",
    "    data = f.read()"
   ]
  },
  {
   "cell_type": "code",
   "execution_count": 2,
   "metadata": {},
   "outputs": [],
   "source": [
    "from urllib.parse import urlparse\n",
    "\n",
    "identifiers = []\n",
    "mementocounts = []\n",
    "timemaps = []\n",
    "totalcount = 0\n",
    "notarchived = []\n",
    "alldata = {}\n",
    "\n",
    "for line in data.splitlines():\n",
    "    line = line.strip()\n",
    "    row = line.split('\\t')\n",
    "    \n",
    "    if row[1] == 'ARCHIVED':\n",
    "        s2 = row[0].replace('https://qualitymeasures.ahrq.gov/summaries/summary/', '')\n",
    "        try:\n",
    "            identifier = int(s2[:s2.find('/')])\n",
    "        except ValueError:\n",
    "            print(\"failed on URI: \" + row[0])\n",
    "#         mementocount = int(row[2].replace(\"mementos\", \"\").strip())\n",
    "        timemap = eval(row[3])\n",
    "        mementocount = len(timemap)\n",
    "        \n",
    "        identifiers.append( identifier )\n",
    "        mementocounts.append( mementocount )\n",
    "        \n",
    "        timemaps.append( timemap )\n",
    "        \n",
    "        alldata[identifier] = timemap\n",
    "        \n",
    "    elif row[1] == 'NOT ARCHIVED':\n",
    "        notarchived.append(row[0])\n",
    "        \n",
    "    totalcount += 1"
   ]
  },
  {
   "cell_type": "code",
   "execution_count": 3,
   "metadata": {},
   "outputs": [
    {
     "data": {
      "text/plain": [
       "2509"
      ]
     },
     "execution_count": 3,
     "metadata": {},
     "output_type": "execute_result"
    }
   ],
   "source": [
    "len(identifiers)"
   ]
  },
  {
   "cell_type": "code",
   "execution_count": 4,
   "metadata": {},
   "outputs": [
    {
     "data": {
      "text/plain": [
       "2509"
      ]
     },
     "execution_count": 4,
     "metadata": {},
     "output_type": "execute_result"
    }
   ],
   "source": [
    "len(mementocounts)"
   ]
  },
  {
   "cell_type": "code",
   "execution_count": 5,
   "metadata": {},
   "outputs": [
    {
     "data": {
      "text/plain": [
       "2509"
      ]
     },
     "execution_count": 5,
     "metadata": {},
     "output_type": "execute_result"
    }
   ],
   "source": [
    "len(timemaps)"
   ]
  },
  {
   "cell_type": "code",
   "execution_count": 6,
   "metadata": {},
   "outputs": [
    {
     "data": {
      "text/plain": [
       "2533"
      ]
     },
     "execution_count": 6,
     "metadata": {},
     "output_type": "execute_result"
    }
   ],
   "source": [
    "totalcount"
   ]
  },
  {
   "cell_type": "code",
   "execution_count": 7,
   "metadata": {},
   "outputs": [
    {
     "data": {
      "text/plain": [
       "24"
      ]
     },
     "execution_count": 7,
     "metadata": {},
     "output_type": "execute_result"
    }
   ],
   "source": [
    "len(notarchived)"
   ]
  },
  {
   "cell_type": "code",
   "execution_count": 8,
   "metadata": {},
   "outputs": [
    {
     "data": {
      "text/plain": [
       "0.0094749309119621"
      ]
     },
     "execution_count": 8,
     "metadata": {},
     "output_type": "execute_result"
    }
   ],
   "source": [
    "len(notarchived) / totalcount"
   ]
  },
  {
   "cell_type": "code",
   "execution_count": 9,
   "metadata": {},
   "outputs": [
    {
     "data": {
      "text/plain": [
       "0.990525069088038"
      ]
     },
     "execution_count": 9,
     "metadata": {},
     "output_type": "execute_result"
    }
   ],
   "source": [
    "len(timemaps) / totalcount"
   ]
  },
  {
   "cell_type": "code",
   "execution_count": 10,
   "metadata": {},
   "outputs": [],
   "source": [
    "import matplotlib.pyplot as plt"
   ]
  },
  {
   "cell_type": "code",
   "execution_count": 11,
   "metadata": {},
   "outputs": [
    {
     "data": {
      "text/plain": [
       "15"
      ]
     },
     "execution_count": 11,
     "metadata": {},
     "output_type": "execute_result"
    }
   ],
   "source": [
    "max(mementocounts)"
   ]
  },
  {
   "cell_type": "code",
   "execution_count": 12,
   "metadata": {},
   "outputs": [
    {
     "data": {
      "text/plain": [
       "1"
      ]
     },
     "execution_count": 12,
     "metadata": {},
     "output_type": "execute_result"
    }
   ],
   "source": [
    "min(mementocounts)"
   ]
  },
  {
   "cell_type": "code",
   "execution_count": 13,
   "metadata": {},
   "outputs": [
    {
     "data": {
      "text/plain": [
       "26637"
      ]
     },
     "execution_count": 13,
     "metadata": {},
     "output_type": "execute_result"
    }
   ],
   "source": [
    "min(identifiers)"
   ]
  },
  {
   "cell_type": "code",
   "execution_count": 14,
   "metadata": {},
   "outputs": [
    {
     "data": {
      "text/plain": [
       "51250"
      ]
     },
     "execution_count": 14,
     "metadata": {},
     "output_type": "execute_result"
    }
   ],
   "source": [
    "max(identifiers)"
   ]
  },
  {
   "cell_type": "code",
   "execution_count": 15,
   "metadata": {},
   "outputs": [
    {
     "name": "stdout",
     "output_type": "stream",
     "text": [
      "counts: [ 81. 125.   0. 521.   0. 802.   0. 438. 208.   0. 142.   0.  78.   0.\n",
      "  16.   0.   1.   1.   0.  12.   0.   8.   0.  55.  21.]\n",
      "bars: [ 1.    1.56  2.12  2.68  3.24  3.8   4.36  4.92  5.48  6.04  6.6   7.16\n",
      "  7.72  8.28  8.84  9.4   9.96 10.52 11.08 11.64 12.2  12.76 13.32 13.88\n",
      " 14.44 15.  ]\n",
      "bins: <a list of 25 Patch objects>\n",
      "max counts: 802.0\n",
      "index of max counts: 5\n",
      "bars[ind]: 3.8000000000000003\n"
     ]
    },
    {
     "data": {
      "image/png": "[encoded data removed]",
      "text/plain": [
       "<Figure size 432x288 with 1 Axes>"
      ]
     },
     "metadata": {},
     "output_type": "display_data"
    }
   ],
   "source": [
    "# plt.hist(mementocounts, bins=25, color=\"#b2df8a\")\n",
    "# plt.xlabel(\"number of mementos\")\n",
    "# plt.ylabel(\"count of URIs \\n with this number of mementos\")\n",
    "# plt.title(\"Histogram of the number of mementos per URI\\nfor qualitymeasures.ahrq.gov\")\n",
    "\n",
    "counts, bars, bins = plt.hist(mementocounts, bins=25, color=\"#b2df8a\")\n",
    "plt.xlabel(\"number of mementos\")\n",
    "plt.ylabel(\"count of URIs \\n with this number of mementos\")\n",
    "plt.title(\"Histogram of the number of mementos per URI\\nfor measure summaries\\n at qualitymeasures.ahrq.gov\")\n",
    "print(\"counts: {}\".format(counts))\n",
    "print(\"bars: {}\".format(bars))\n",
    "print(\"bins: {}\".format(bins))\n",
    "print(\"max counts: {}\".format(max(counts)))\n",
    "ind = counts.tolist().index(max(counts))\n",
    "print(\"index of max counts: {}\".format(ind))\n",
    "print(\"bars[ind]: {}\".format(bars[ind]))"
   ]
  },
  {
   "cell_type": "code",
   "execution_count": 16,
   "metadata": {},
   "outputs": [
    {
     "data": {
      "text/plain": [
       "Text(0,0.5,'document identifier')"
      ]
     },
     "execution_count": 16,
     "metadata": {},
     "output_type": "execute_result"
    },
    {
     "data": {
      "image/png": "[encoded data removed]",
      "text/plain": [
       "<Figure size 432x288 with 1 Axes>"
      ]
     },
     "metadata": {},
     "output_type": "display_data"
    }
   ],
   "source": [
    "plt.scatter(mementocounts, identifiers)\n",
    "plt.xlabel(\"number of mementos\")\n",
    "plt.ylabel(\"document identifier\")"
   ]
  },
  {
   "cell_type": "code",
   "execution_count": 17,
   "metadata": {},
   "outputs": [],
   "source": [
    "all_mdts = []\n",
    "\n",
    "for timemap in timemaps:\n",
    "    for memento in timemap:\n",
    "        all_mdts.append(memento['datetime'])"
   ]
  },
  {
   "cell_type": "code",
   "execution_count": 18,
   "metadata": {},
   "outputs": [
    {
     "data": {
      "text/plain": [
       "11656"
      ]
     },
     "execution_count": 18,
     "metadata": {},
     "output_type": "execute_result"
    }
   ],
   "source": [
    "len(all_mdts)"
   ]
  },
  {
   "cell_type": "code",
   "execution_count": 19,
   "metadata": {},
   "outputs": [
    {
     "data": {
      "text/plain": [
       "'2016-09-30T14:38:02Z'"
      ]
     },
     "execution_count": 19,
     "metadata": {},
     "output_type": "execute_result"
    }
   ],
   "source": [
    "min(all_mdts)"
   ]
  },
  {
   "cell_type": "code",
   "execution_count": 20,
   "metadata": {},
   "outputs": [
    {
     "data": {
      "text/plain": [
       "'2018-06-25T16:41:31Z'"
      ]
     },
     "execution_count": 20,
     "metadata": {},
     "output_type": "execute_result"
    }
   ],
   "source": [
    "max(all_mdts)"
   ]
  },
  {
   "cell_type": "code",
   "execution_count": 21,
   "metadata": {},
   "outputs": [],
   "source": [
    "from datetime import datetime\n",
    "\n",
    "ids2mementos = []\n",
    "mdt2ids = []\n",
    "monthbuckets = {}\n",
    "\n",
    "for identifier in alldata:\n",
    "    timemap = alldata[identifier]\n",
    "    \n",
    "    for memento in timemap:\n",
    "        \n",
    "        ids2mementos.append(identifier)\n",
    "        \n",
    "        mdt = datetime.strptime(memento['datetime'], '%Y-%m-%dT%H:%M:%SZ')\n",
    "        \n",
    "        mdt2ids.append(mdt)\n",
    "        monthbuckets.setdefault( datetime.strptime(mdt.strftime('%Y-%m'), '%Y-%m'), 0)\n",
    "        monthbuckets[ datetime.strptime(mdt.strftime('%Y-%m'), '%Y-%m') ] += 1"
   ]
  },
  {
   "cell_type": "code",
   "execution_count": 22,
   "metadata": {},
   "outputs": [
    {
     "data": {
      "image/png": "[encoded data removed]",
      "text/plain": [
       "<Figure size 432x288 with 1 Axes>"
      ]
     },
     "metadata": {},
     "output_type": "display_data"
    }
   ],
   "source": [
    "import matplotlib.dates as mdates\n",
    "\n",
    "years = mdates.YearLocator()\n",
    "months = mdates.MonthLocator()\n",
    "yearsFmt = mdates.DateFormatter('%Y-%m')\n",
    "\n",
    "fig, ax = plt.subplots()\n",
    "\n",
    "ax.scatter(mdt2ids, ids2mementos)\n",
    "\n",
    "ax.xaxis.set_major_locator(years)\n",
    "ax.xaxis.set_major_formatter(yearsFmt)\n",
    "ax.xaxis.set_minor_locator(months)\n",
    "\n",
    "fig.autofmt_xdate()"
   ]
  },
  {
   "cell_type": "code",
   "execution_count": 23,
   "metadata": {},
   "outputs": [
    {
     "name": "stdout",
     "output_type": "stream",
     "text": [
      "hi\n"
     ]
    }
   ],
   "source": [
    "print(\"hi\")"
   ]
  },
  {
   "cell_type": "code",
   "execution_count": 24,
   "metadata": {},
   "outputs": [],
   "source": [
    "x = []\n",
    "y = []\n",
    "\n",
    "for key in monthbuckets:\n",
    "    x.append(key)\n",
    "    y.append(monthbuckets[key])"
   ]
  },
  {
   "cell_type": "code",
   "execution_count": 25,
   "metadata": {},
   "outputs": [
    {
     "data": {
      "image/png": "[encoded data removed]",
      "text/plain": [
       "<Figure size 720x720 with 1 Axes>"
      ]
     },
     "metadata": {},
     "output_type": "display_data"
    }
   ],
   "source": [
    "years = mdates.YearLocator()\n",
    "months = mdates.MonthLocator()\n",
    "yearsFmt = mdates.DateFormatter('%Y-%m')\n",
    "\n",
    "fig, ax = plt.subplots()\n",
    "fig.set_size_inches(10, 10)\n",
    "\n",
    "ax.bar(x, y, width=25, color=\"#b2df8a\")\n",
    "\n",
    "ax.xaxis.set_major_locator(months)\n",
    "ax.xaxis.set_major_formatter(yearsFmt)\n",
    "# ax.xaxis.set_minor_locator(months)\n",
    "\n",
    "ax.set_xlabel(\"memento-datetimes\")\n",
    "ax.set_ylabel(\"memento count\")\n",
    "ax.set_title(\"Memento Count Per Month for Measure Summaries\\nfor measure summaries\\n at qualitymeasures.ahrq.gov\")\n",
    "\n",
    "fig.autofmt_xdate()"
   ]
  },
  {
   "cell_type": "code",
   "execution_count": 26,
   "metadata": {},
   "outputs": [
    {
     "data": {
      "text/plain": [
       "datetime.datetime(2017, 5, 1, 0, 0)"
      ]
     },
     "execution_count": 26,
     "metadata": {},
     "output_type": "execute_result"
    }
   ],
   "source": [
    "list(monthbuckets.keys())[0]"
   ]
  },
  {
   "cell_type": "code",
   "execution_count": 27,
   "metadata": {},
   "outputs": [
    {
     "data": {
      "text/plain": [
       "1505"
      ]
     },
     "execution_count": 27,
     "metadata": {},
     "output_type": "execute_result"
    }
   ],
   "source": [
    "monthbuckets[list(monthbuckets.keys())[0]]"
   ]
  },
  {
   "cell_type": "code",
   "execution_count": 28,
   "metadata": {},
   "outputs": [
    {
     "name": "stdout",
     "output_type": "stream",
     "text": [
      "http://wayback.archive-it.org/all/20160930143938/https://www.qualitymeasures.ahrq.gov/summaries/summary/36635/Foreign-object-retention-percentage-of-unintentionally-retained-foreign-objects-during-labor-and-delivery\n",
      "http://wayback.archive-it.org/all/20160930143943/https://www.qualitymeasures.ahrq.gov/summaries/summary/36636/Foreign-object-retention-percentage-of-vaginal-deliveries-where-a-baseline-count-was-conducted\n",
      "http://wayback.archive-it.org/all/20160930143948/https://www.qualitymeasures.ahrq.gov/summaries/summary/36637/Foreign-object-retention-percentage-of-vaginal-deliveries-where-a-final-count-was-conducted\n",
      "http://wayback.archive-it.org/all/20160930143933/https://www.qualitymeasures.ahrq.gov/summaries/summary/36638/Foreign-object-retention-percentage-of-cases-where-final-counts-were-not-reconciled-with-baseline-counts-and-imaging-was-performed\n",
      "http://wayback.archive-it.org/all/20160930143802/https://www.qualitymeasures.ahrq.gov/summaries/summary/36652/Diagnosis-of-breast-disease-percentage-of-BIRADS-category-4-or-BIRADS-category-5-mammograms-that-are-followed-by-a-biopsy-within-7-to-10-days\n",
      "http://wayback.archive-it.org/all/20160930143913/https://www.qualitymeasures.ahrq.gov/summaries/summary/36725/Pressure-ulcer-prevention-and-treatment-protocol-percentage-of-patients-with-documentation-of-a-pressure-ulcer\n",
      "http://wayback.archive-it.org/all/20160930143928/https://www.qualitymeasures.ahrq.gov/summaries/summary/36726/Pressure-ulcer-prevention-and-treatment-protocol-percentage-of-patients-evaluated-for-pressure-ulcer-with-documentation-of-a-pressure-ulcer\n",
      "http://wayback.archive-it.org/all/20160930143842/https://www.qualitymeasures.ahrq.gov/summaries/summary/36727/Pressure-ulcer-prevention-and-treatment-protocol-percentage-of-patients-with-documentation-in-the-medical-record-indicating-a-risk-assessment-using-the-Braden-Scale-or-Braden-Q-was-completed-upon-admission\n",
      "http://wayback.archive-it.org/all/20160930143852/https://www.qualitymeasures.ahrq.gov/summaries/summary/36728/Pressure-ulcer-prevention-and-treatment-protocol-percentage-of-patients-with-documentation-in-the-medical-record-indicating-patient-risk-was-reassessed-daily-using-the-Braden-Scale-or-Braden-Q-or-as-indicated-for-care-setting\n",
      "http://wayback.archive-it.org/all/20160930143847/https://www.qualitymeasures.ahrq.gov/summaries/summary/36729/Pressure-ulcer-prevention-and-treatment-protocol-percentage-of-patients-with-documentation-in-the-medical-record-indicating-a-risk-assessment-was-done-using-specific-questions\n",
      "http://wayback.archive-it.org/all/20160930143858/https://www.qualitymeasures.ahrq.gov/summaries/summary/36730/Pressure-ulcer-prevention-and-treatment-protocol-percentage-of-patients-with-documentation-in-the-medical-record-that-a-headtotoe-reinspection-and-palpation-were-completed-every-8-to-24-hours-depending-on-the-status-of-the-patient\n",
      "http://wayback.archive-it.org/all/20160930143903/https://www.qualitymeasures.ahrq.gov/summaries/summary/36731/Pressure-ulcer-prevention-and-treatment-protocol-percentage-of-patients-with-documentation-in-the-medical-record-that-a-headtotoe-skin-inspection-and-palpation-were-completed-within-six-hours-of-admission\n",
      "http://wayback.archive-it.org/all/20160930143807/https://www.qualitymeasures.ahrq.gov/summaries/summary/36732/Pressure-ulcer-prevention-and-treatment-protocol-percentage-of-atrisk-patients-with-documentation-in-the-medical-record-that-a-headtotoe-skin-inspection-was-completed\n",
      "http://wayback.archive-it.org/all/20160930143918/https://www.qualitymeasures.ahrq.gov/summaries/summary/36733/Pressure-ulcer-prevention-and-treatment-protocol-percentage-of-patients-with-documentation-of-interventions-including-patient-education-in-the-medical-record\n",
      "http://wayback.archive-it.org/all/20160930143817/https://www.qualitymeasures.ahrq.gov/summaries/summary/36734/Pressure-ulcer-prevention-and-treatment-protocol-percentage-of-inpatients-with-pressure-ulcers-whose-medical-record-contains-documentation-of-a-comprehensive-patient-assessment-and-thorough-wound-evaluation\n",
      "http://wayback.archive-it.org/all/20160930143822/https://www.qualitymeasures.ahrq.gov/summaries/summary/36735/Pressure-ulcer-prevention-and-treatment-protocol-percentage-of-inpatients-with-pressure-ulcers-whose-medical-record-contains-documentation-of-a-partial-wound-assessment-with-every-dressing-change\n",
      "http://wayback.archive-it.org/all/20160930143832/https://www.qualitymeasures.ahrq.gov/summaries/summary/36736/Pressure-ulcer-prevention-and-treatment-protocol-percentage-of-outpatients-with-pressure-ulcers-whose-medical-record-contains-documentation-of-a-comprehensive-patient-assessment-and-thorough-wound-evaluation\n",
      "http://wayback.archive-it.org/all/20160930143923/https://www.qualitymeasures.ahrq.gov/summaries/summary/36737/Pressure-ulcer-prevention-and-treatment-protocol-percentage-of-patients-with-pressure-ulcers-whose-medical-record-contains-documentation-of-a-pressure-ulcer-treatment-plan-in-their-plan-of-care\n",
      "http://wayback.archive-it.org/all/20160930143827/https://www.qualitymeasures.ahrq.gov/summaries/summary/36738/Pressure-ulcer-prevention-and-treatment-protocol-percentage-of-outpatients-with-a-pressure-ulcers-with-documentation-in-the-medical-record-that-education-was-provided-to-patient-family-andor-caregiver-regarding-the-treatment-progression-and-prevention-of-press\n",
      "http://wayback.archive-it.org/all/20160930143812/https://www.qualitymeasures.ahrq.gov/summaries/summary/36739/Pressure-ulcer-prevention-and-treatment-protocol-percentage-of-inpatients-with-a-pressure-ulcer-who-are-discharged-home-with-documentation-in-the-medical-record-that-written-instructions-and-educational-materials-were-given-to-the-patient-andor-hisher-caregive\n",
      "http://wayback.archive-it.org/all/20160930143908/https://www.qualitymeasures.ahrq.gov/summaries/summary/36740/Pressure-ulcer-prevention-and-treatment-protocol-percentage-of-patients-with-documentation-in-the-medical-record-that-communication-of-a-transferdischarge-plan-for-patients-with-a-pressure-ulcers-took-place-addressing-skin-status-and-the-pressure-ulcer-prevent\n",
      "http://wayback.archive-it.org/all/20160930143837/https://www.qualitymeasures.ahrq.gov/summaries/summary/36741/Pressure-ulcer-prevention-and-treatment-protocol-percentage-of-patients-with-a-pressure-ulcer-who-are-transferreddischarged-with-documentation-in-the-medical-record-of-the-transferdischarge-plan\n",
      "http://wayback.archive-it.org/all/20160930144426/https://www.qualitymeasures.ahrq.gov/summaries/summary/36742/Adult-acute-and-subacute-low-back-pain-percentage-of-patients-with-low-back-pain-diagnosis-who-have-all-of-the-following-at-the-initial-visit-with-the-physician-pain-assessment-using-the-Visual-Analog-Scale-pain-diagram-or-other-assessment-tool-functional-stat\n",
      "http://wayback.archive-it.org/all/20160930144420/https://www.qualitymeasures.ahrq.gov/summaries/summary/36743/Adult-acute-and-subacute-low-back-pain-percentage-of-patients-with-low-back-pain-diagnosis-who-have-a-reassessment-at-each-followup-visit-that-includes-pain-assessment-using-the-Visual-Analog-Scale-pain-diagram-or-other-assessment-tool-functional-status-using-\n",
      "http://wayback.archive-it.org/all/20160930144406/https://www.qualitymeasures.ahrq.gov/summaries/summary/36744/Adult-acute-and-subacute-low-back-pain-percentage-of-patients-with-a-diagnosis-of-nonspecific-back-pain-for-whom-the-physician-ordered-imaging-studies-during-the-six-weeks-after-pain-onset-in-the-absence-of-red-flags\n",
      "http://wayback.archive-it.org/all/20160930144446/https://www.qualitymeasures.ahrq.gov/summaries/summary/36745/Adult-acute-and-subacute-low-back-pain-percentage-of-patients-with-nonspecific-back-pain-diagnosis-who-received-inappropriate-repeat-imaging-studies-in-the-absence-of-red-flags-or-progressive-symptoms\n",
      "http://wayback.archive-it.org/all/20160930144509/https://www.qualitymeasures.ahrq.gov/summaries/summary/36746/Adult-acute-and-subacute-low-back-pain-percentage-of-patients-with-radicular-pain-for-whom-the-clinician-ordered-imaging-studies-during-the-six-weeks-after-pain-onset\n",
      "http://wayback.archive-it.org/all/20160930144413/https://www.qualitymeasures.ahrq.gov/summaries/summary/36749/Adult-acute-and-subacute-low-back-pain-percentage-of-patients-with-low-back-pain-diagnosis-who-are-prescribed-opioids\n",
      "http://wayback.archive-it.org/all/20160930144432/https://www.qualitymeasures.ahrq.gov/summaries/summary/36750/Adult-acute-and-subacute-low-back-pain-percentage-of-patients-with-low-back-pain-diagnosis-who-have-their-functional-status-assessed-using-the-Oswestry-Disability-Questionnaire-or-other-assessment-tool\n",
      "http://wayback.archive-it.org/all/20160930144438/https://www.qualitymeasures.ahrq.gov/summaries/summary/36751/Adult-acute-and-subacute-low-back-pain-percentage-of-patients-with-low-back-pain-diagnosis-who-have-their-pain-status-assessed-using-the-Visual-Analog-Scale-pain-diagram-or-other-assessment-tool\n",
      "http://wayback.archive-it.org/all/20160930144454/https://www.qualitymeasures.ahrq.gov/summaries/summary/36752/Adult-acute-and-subacute-low-back-pain-percentage-of-patients-with-nonspecific-low-back-pain-diagnosis-who-have-had-collaborative-decisionmaking-with-regards-to-referral-to-a-specialist\n",
      "http://wayback.archive-it.org/all/20160930144501/https://www.qualitymeasures.ahrq.gov/summaries/summary/36753/Adult-acute-and-subacute-low-back-pain-percentage-of-patients-with-radicular-pain-diagnosis-who-have-had-collaborative-decisionmaking-with-regards-to-imaging-intervention-andor-surgery\n",
      "http://wayback.archive-it.org/all/20160930144002/https://www.qualitymeasures.ahrq.gov/summaries/summary/36852/Immunizations-percentage-of-patients-who-by-age-13-years-were-uptodate-with-the-following-recommended-adolescent-immunizations-one-human-papillomavirus-vaccine-HPV-for-females-one-meningococcal-MCV4-one-tetanus-diphtheria-toxoids-and-acellular-pertussis-vaccin\n",
      "http://wayback.archive-it.org/all/20160930143953/https://www.qualitymeasures.ahrq.gov/summaries/summary/36853/Immunizations-percentage-of-adult-patients-19-years-and-older-who-are-uptodate-with-the-following-immunizations-one-tetanus-diphtheria-toxoids-vaccine-Td-in-the-last-10-years-two-doses-of-varicella-or-history-of-disease-up-to-year-1995-pneumococcal-polysacchar\n",
      "http://wayback.archive-it.org/all/20160930143958/https://www.qualitymeasures.ahrq.gov/summaries/summary/36854/Immunizations-percentage-of-patients-or-parents-if-patient-younger-than-18-years-who-receive-education-regarding-the-importance-of-immunizations-and-recommended-immunization-schedules\n",
      "http://wayback.archive-it.org/all/20160930144016/https://www.qualitymeasures.ahrq.gov/summaries/summary/36944/Acute-care-prevention-of-falls-rate-of-inpatient-falls-per-1000-patient-days\n",
      "http://wayback.archive-it.org/all/20160930144027/https://www.qualitymeasures.ahrq.gov/summaries/summary/36945/Acute-care-prevention-of-falls-rate-of-inpatient-falls-with-injury-per-1000-patient-days\n",
      "http://wayback.archive-it.org/all/20160930144008/https://www.qualitymeasures.ahrq.gov/summaries/summary/36946/Acute-care-prevention-of-falls-percentage-of-patients-who-receive-appropriate-falls-prevention-interventions-based-upon-the-results-of-their-falls-risk-assessment\n",
      "http://wayback.archive-it.org/all/20160930144113/https://www.qualitymeasures.ahrq.gov/summaries/summary/38370/Diagnosis-and-treatment-of-ischemic-stroke-percentage-of-patients-initially-presenting-with-acute-symptoms-of-ischemic-stroke-within-three-hours-or-up-to-45-hours-for-patients-meeting-selected-criteria-of-stroke-onset-who-are-evaluated-by-a-clinician-within-10\n",
      "http://wayback.archive-it.org/all/20160930144105/https://www.qualitymeasures.ahrq.gov/summaries/summary/38371/Diagnosis-and-treatment-of-ischemic-stroke-percentage-of-patients-admitted-to-the-hospital-observation-unit-or-expedited-outpatient-TIA-clinic-with-documentation-of-clinical-TIA-symptoms-within-the-last-24-hours\n",
      "http://wayback.archive-it.org/all/20160930144038/https://www.qualitymeasures.ahrq.gov/summaries/summary/38372/Diagnosis-and-treatment-of-ischemic-stroke-percentage-of-eligible-patients-with-ischemic-stroke-treated-with-tPA\n",
      "http://wayback.archive-it.org/all/20160930144135/https://www.qualitymeasures.ahrq.gov/summaries/summary/38373/Diagnosis-and-treatment-of-ischemic-stroke-percentage-of-patients-who-are-not-candidates-for-tPA-treatment-who-receive-aspirin-within-24-hours-of-hospitalization-after-a-negative-head-CT-unless-contraindicated\n",
      "http://wayback.archive-it.org/all/20160930144032/https://www.qualitymeasures.ahrq.gov/summaries/summary/38374/Diagnosis-and-treatment-of-ischemic-stroke-percentage-of-eligible-patients-receiving-tPA-according-to-guideline\n",
      "http://wayback.archive-it.org/all/20160930144212/https://www.qualitymeasures.ahrq.gov/summaries/summary/38375/Diagnosis-and-treatment-of-ischemic-stroke-percentage-of-patients-with-stroke-symptoms-who-are-candidates-for-tPA-with-a-door-to-drug-time-time-of-arrival-to-time-of-drug-administration-of-less-than-60-minutes\n",
      "http://wayback.archive-it.org/all/20160930144217/https://www.qualitymeasures.ahrq.gov/summaries/summary/38376/Diagnosis-and-treatment-of-ischemic-stroke-percentage-of-patients-with-stroke-symptoms-who-undergo-a-CT-scan-within-25-minutes-of-arrival-in-the-emergency-department\n",
      "http://wayback.archive-it.org/all/20160930144222/https://www.qualitymeasures.ahrq.gov/summaries/summary/38377/Diagnosis-and-treatment-of-ischemic-stroke-percentage-of-tPA-nonrecipients-who-have-hypertension-appropriately-managed-in-the-first-48-hours-of-hospitalization-or-until-neurologically-stable\n",
      "http://wayback.archive-it.org/all/20160930144147/https://www.qualitymeasures.ahrq.gov/summaries/summary/38378/Diagnosis-and-treatment-of-ischemic-stroke-percentage-of-patients-who-receive-appropriate-intervention-for-hypoglycemia-and-hyperglycemia\n",
      "http://wayback.archive-it.org/all/20160930144140/https://www.qualitymeasures.ahrq.gov/summaries/summary/38379/Diagnosis-and-treatment-of-ischemic-stroke-percentage-of-patients-who-receive-appropriate-intervention-for-hyperthermia\n",
      "http://wayback.archive-it.org/all/20160930144157/https://www.qualitymeasures.ahrq.gov/summaries/summary/38380/Diagnosis-and-treatment-of-ischemic-stroke-percentage-of-patients-with-dehydration-who-receive-IV-fluids\n",
      "http://wayback.archive-it.org/all/20160930144206/https://www.qualitymeasures.ahrq.gov/summaries/summary/38381/Diagnosis-and-treatment-of-ischemic-stroke-percentage-of-patients-with-ischemic-stroke-with-paralysis-or-other-reason-for-immobility-receiving-appropriate-prevention-for-VTE-subcutaneous-heparin-or-pneumatic-compression-device\n",
      "http://wayback.archive-it.org/all/20160930144044/https://www.qualitymeasures.ahrq.gov/summaries/summary/38382/Diagnosis-and-treatment-of-ischemic-stroke-percentage-of-ischemic-stroke-patients-who-are-assessed-with-a-swallow-screening-test-before-receiving-food-fluids-or-medications-by-mouth\n",
      "http://wayback.archive-it.org/all/20160930144122/https://www.qualitymeasures.ahrq.gov/summaries/summary/38383/Diagnosis-and-treatment-of-ischemic-stroke-percentage-of-patients-mobilized-from-bed-within-24-hours-of-admission\n",
      "http://wayback.archive-it.org/all/20160930144128/https://www.qualitymeasures.ahrq.gov/summaries/summary/38384/Diagnosis-and-treatment-of-ischemic-stroke-percentage-of-patients-presenting-in-the-emergency-department-with-ischemic-stroke-for-whom-patientfamily-education-is-documented-in-the-medical-record\n",
      "http://wayback.archive-it.org/all/20160930144054/https://www.qualitymeasures.ahrq.gov/summaries/summary/38385/Diagnosis-and-treatment-of-ischemic-stroke-percentage-of-patients-admitted-to-a-hospital-unit-with-ischemic-stroke-for-whom-patientfamily-education-is-documented-in-the-medical-record\n",
      "http://wayback.archive-it.org/all/20160930144308/https://www.qualitymeasures.ahrq.gov/summaries/summary/38386/Diagnosis-and-management-of-asthma-percentage-of-patients-with-spirometry-or-peak-flow-at-the-last-visit-related-to-asthma\n",
      "http://wayback.archive-it.org/all/20160930144257/https://www.qualitymeasures.ahrq.gov/summaries/summary/38387/Diagnosis-and-management-of-asthma-percentage-of-patients-with-assessment-of-asthma-control-using-a-validated-questionnaire-at-the-last-visit-related-to-asthma\n",
      "http://wayback.archive-it.org/all/20160930144233/https://www.qualitymeasures.ahrq.gov/summaries/summary/38388/Diagnosis-and-management-of-asthma-percentage-of-hospitalized-patients-with-asthma-who-are-discharged-on-an-inhaled-antiinflammatory-medication\n",
      "http://wayback.archive-it.org/all/20160930144227/https://www.qualitymeasures.ahrq.gov/summaries/summary/38389/Diagnosis-and-management-of-asthma-percentage-of-discharged-patients-with-asthma-who-are-readmitted-to-hospital-within-30-days-of-discharge\n",
      "http://wayback.archive-it.org/all/20160930144303/https://www.qualitymeasures.ahrq.gov/summaries/summary/38390/Diagnosis-and-management-of-asthma-percentage-of-patients-with-asthma-who-return-to-the-emergency-department-for-treatment-of-asthma-within-30-days-of-last-visit-to-the-emergency-department\n",
      "http://wayback.archive-it.org/all/20160930144252/https://www.qualitymeasures.ahrq.gov/summaries/summary/38391/Diagnosis-and-management-of-asthma-percentage-of-patients-with-an-emergency-department-visit-or-inpatient-admission-for-an-asthma-exacerbation-who-are-discharged-from-the-emergency-department-or-inpatient-setting-with-an-asthma-discharge-plan\n",
      "http://wayback.archive-it.org/all/20160930144246/https://www.qualitymeasures.ahrq.gov/summaries/summary/38392/Diagnosis-and-management-of-asthma-percentage-of-patients-whose-asthma-is-not-controlled-or-have-change-in-medication-or-clinical-status-who-are-seen-by-a-health-care-clinician-within-two-to-six-weeks\n",
      "http://wayback.archive-it.org/all/20160930144239/https://www.qualitymeasures.ahrq.gov/summaries/summary/38393/Diagnosis-and-management-of-asthma-percentage-of-patients-whose-asthma-is-controlled-who-are-seen-by-a-health-care-clinician-every-one-to-six-months\n",
      "http://wayback.archive-it.org/all/20160930144332/https://www.qualitymeasures.ahrq.gov/summaries/summary/38394/Routine-prenatal-care-percentage-of-pregnant-patients-who-have-an-initial-risk-assessment-completed-within-two-visits-of-initiation-of-prenatal-care\n",
      "http://wayback.archive-it.org/all/20160930144321/https://www.qualitymeasures.ahrq.gov/summaries/summary/38395/Routine-prenatal-care-percentage-of-patients-planning-pregnancy-who-have-preconception-risk-assessmentcounseling\n",
      "http://wayback.archive-it.org/all/20160930144315/https://www.qualitymeasures.ahrq.gov/summaries/summary/38396/Routine-prenatal-care-percentage-of-patients-planning-a-pregnancy-who-receive-counseling-and-education-before-pregnancy-according-to-the-guideline\n",
      "http://wayback.archive-it.org/all/20160930144346/https://www.qualitymeasures.ahrq.gov/summaries/summary/38397/Routine-prenatal-care-percentage-of-pregnant-patients-who-receive-counseling-and-education-at-each-visit-as-outlined-in-the-guideline\n",
      "http://wayback.archive-it.org/all/20160930144338/https://www.qualitymeasures.ahrq.gov/summaries/summary/38398/Routine-prenatal-care-percentage-of-pregnant-patients-who-receive-counseling-about-aneuploidy-screening-in-the-first-trimester\n",
      "http://wayback.archive-it.org/all/20160930144352/https://www.qualitymeasures.ahrq.gov/summaries/summary/38399/Routine-prenatal-care-percentage-of-VBACeligible-pregnant-patients-who-have-a-collaborative-conversation-with-their-clinician-about-the-risks-and-benefits-of-VBAC\n",
      "http://wayback.archive-it.org/all/20160930144326/https://www.qualitymeasures.ahrq.gov/summaries/summary/38400/Routine-prenatal-care-percentage-of-patients-who-have-had-identified-preterm-birth-PTB-modifiable-risk-factors-who-receive-an-intervention\n",
      "http://wayback.archive-it.org/all/20160930144552/https://www.qualitymeasures.ahrq.gov/summaries/summary/39356/Venous-thromboembolism-VTE-prophylaxis-percentage-of-adult-hospitalized-patients-who-have-a-VTE-risk-assessment-within-24-hours-of-admission\n",
      "http://wayback.archive-it.org/all/20160930144643/https://www.qualitymeasures.ahrq.gov/summaries/summary/39357/Venous-thromboembolism-VTE-prophylaxis-percentage-of-hospitalized-patients-who-are-evaluated-for-VTE-prophylaxis-upon-referral-or-transfer-to-another-setting-service-practitioner-or-level-of-care-within-or-outside-the-organization\n",
      "http://wayback.archive-it.org/all/20160930144613/https://www.qualitymeasures.ahrq.gov/summaries/summary/39358/Venous-thromboembolism-VTE-prophylaxis-percentage-of-hospitalized-patients-at-risk-for-VTE-who-have-VTE-education-within-24-hours-of-admission-that-includes-1-VTE-risk-2-signs-and-symptoms-3-early-and-frequent-mobilization-and-4-clinically-appropriate-treatmen\n",
      "http://wayback.archive-it.org/all/20160930144701/https://www.qualitymeasures.ahrq.gov/summaries/summary/39359/Venous-thromboembolism-VTE-prophylaxis-percentage-of-hospitalized-patients-who-have-a-baseline-international-normalized-ratio-when-initially-prescribed-warfarin\n",
      "http://wayback.archive-it.org/all/20160930144636/https://www.qualitymeasures.ahrq.gov/summaries/summary/39360/Venous-thromboembolism-VTE-prophylaxis-percentage-of-hospitalized-patients-on-warfarin-for-whom-current-international-normalized-ratio-is-used-to-monitor-and-adjust-therapy\n",
      "http://wayback.archive-it.org/all/20160930144619/https://www.qualitymeasures.ahrq.gov/summaries/summary/39361/Venous-thromboembolism-VTE-prophylaxis-percentage-of-hospitalized-patients-on-prescribed-heparin-or-lowmolecularweight-heparin-who-have-appropriate-baseline-laboratory-tests-documented\n",
      "http://wayback.archive-it.org/all/20160930144537/https://www.qualitymeasures.ahrq.gov/summaries/summary/39362/Venous-thromboembolism-VTE-prophylaxis-percentage-of-adult-hospitalized-patients-on-prescribed-heparin-or-lowmolecularweight-heparin-who-have-appropriate-ongoing-laboratory-tests-drawn-and-used-to-adjust-therapy\n",
      "http://wayback.archive-it.org/all/20160930144544/https://www.qualitymeasures.ahrq.gov/summaries/summary/39363/Venous-thromboembolism-VTE-prophylaxis-percentage-of-adult-hospitalized-patients-receiving-heparin-therapy-for-VTE-prophylaxis-who-have-a-baseline-platelet-count-before-starting-heparin-and-then-a-platelet-count-every-other-day-over-the-course-of-14-days\n",
      "http://wayback.archive-it.org/all/20160930144558/https://www.qualitymeasures.ahrq.gov/summaries/summary/39364/Venous-thromboembolism-VTE-prophylaxis-percentage-of-adult-hospitalized-patients-with-creatinine-clearance-less-than-30-mLmin-in-the-medical-record-who-receive-a-reduced-dose-of-anticoagulation-therapy\n",
      "http://wayback.archive-it.org/all/20160930144605/https://www.qualitymeasures.ahrq.gov/summaries/summary/39365/Venous-thromboembolism-VTE-prophylaxis-percentage-of-discharged-patients-who-are-readmitted-to-the-hospital-with-VTE-within-30-days-of-discharge\n",
      "http://wayback.archive-it.org/all/20160930144517/https://www.qualitymeasures.ahrq.gov/summaries/summary/39388/Diagnosis-and-treatment-of-chest-pain-and-acute-coronary-syndrome-ACS-percentage-of-AMI-patients-who-receive-a-statin-agent-within-24-hours-of-arrival-and-at-discharge-from-hospital-for-whom-treatment-is-appropriate\n",
      "http://wayback.archive-it.org/all/20160930144523/https://www.qualitymeasures.ahrq.gov/summaries/summary/39389/Diagnosis-and-treatment-of-chest-pain-and-acute-coronary-syndrome-ACS-percentage-of-patients-with-AMI-who-are-referred-to-an-appropriate-cardiac-rehabilitation-program-postdischarge\n",
      "http://wayback.archive-it.org/all/20160930144530/https://www.qualitymeasures.ahrq.gov/summaries/summary/39390/Diagnosis-and-treatment-of-chest-pain-and-acute-coronary-syndrome-ACS-percentage-of-patients-with-AMI-with-referral-to-an-appropriate-cardiac-rehabilitation-program-Phase-2-or-Phase-3-postdischarge-who-enroll-in-the-program\n",
      "http://wayback.archive-it.org/all/20160930144358/https://www.qualitymeasures.ahrq.gov/summaries/summary/39391/Adult-acute-and-subacute-low-back-pain-percentage-of-patients-who-were-advised-on-maintenance-or-resumption-of-activities-against-bed-rest-use-of-heat-education-on-importance-of-active-lifestyle-and-exercise-and-recommendation-to-take-antiinflammatory-or-analg\n",
      "http://wayback.archive-it.org/all/20160930145029/https://www.qualitymeasures.ahrq.gov/summaries/summary/39410/Venous-thromboembolism-VTE-diagnosis-and-treatment-percentage-of-patients-with-VTE-treated-with-LMWH-who-receive-heparin-treatment-for-at-least-five-days-after-the-initiation-of-warfarin-therapy-and-until-INR-is-greater-than-or-equal-to-20-for-two-consecutive-\n",
      "http://wayback.archive-it.org/all/20160930145036/https://www.qualitymeasures.ahrq.gov/summaries/summary/39411/Venous-thromboembolism-VTE-diagnosis-and-treatment-percentage-of-patients-with-VTE-treated-with-UFH-who-receive-heparin-treatment-for-at-least-five-days-after-the-initiation-of-warfarin-therapy-and-until-INR-is-greater-than-or-equal-to-20-for-two-consecutive-d\n",
      "http://wayback.archive-it.org/all/20160930144945/https://www.qualitymeasures.ahrq.gov/summaries/summary/39412/Venous-thromboembolism-VTE-diagnosis-and-treatment-percentage-of-adult-patients-with-DVT-who-have-been-assessed-for-the-need-for-graduated-compression-stockings-not-TEDsTM\n",
      "http://wayback.archive-it.org/all/20160930145107/https://www.qualitymeasures.ahrq.gov/summaries/summary/39413/Venous-thromboembolism-VTE-diagnosis-and-treatment-percentage-of-patients-with-VTE-who-develop-PE\n",
      "http://wayback.archive-it.org/all/20160930145122/https://www.qualitymeasures.ahrq.gov/summaries/summary/39414/Venous-thromboembolism-VTE-diagnosis-and-treatment-percentage-of-VTE-patients-who-have-a-high-clinical-pretest-probability-CPTP-score-greater-than-6-for-PE-who-received-anticoagulation-prior-to-diagnostic-evaluation\n",
      "http://wayback.archive-it.org/all/20160930144954/https://www.qualitymeasures.ahrq.gov/summaries/summary/39415/Venous-thromboembolism-VTE-diagnosis-and-treatment-percentage-of-hospitalized-patients-with-VTE-who-receive-warfarin-on-day-one-of-heparin-therapy\n",
      "http://wayback.archive-it.org/all/20160930145043/https://www.qualitymeasures.ahrq.gov/summaries/summary/39416/Venous-thromboembolism-VTE-diagnosis-and-treatment-percentage-of-patients-with-VTE-who-are-initially-prescribed-warfarin-therapy-with-documentation-in-the-medical-record-indicating-a-baseline-INR-was-obtained\n",
      "http://wayback.archive-it.org/all/20160930145114/https://www.qualitymeasures.ahrq.gov/summaries/summary/39417/Venous-thromboembolism-VTE-diagnosis-and-treatment-percentage-of-patients-with-VTE-who-receive-ongoing-warfarin-therapy-with-documentation-in-the-medical-record-indicating-a-current-INR-is-available-and-is-used-to-monitor-and-adjust-therapy\n",
      "http://wayback.archive-it.org/all/20160930145100/https://www.qualitymeasures.ahrq.gov/summaries/summary/39418/Venous-thromboembolism-VTE-diagnosis-and-treatment-percentage-of-patients-with-VTE-who-are-prescribed-UFH-andor-LMWH-who-have-baseline-laboratory-tests-documented-in-their-medical-record\n",
      "http://wayback.archive-it.org/all/20160930145049/https://www.qualitymeasures.ahrq.gov/summaries/summary/39419/Venous-thromboembolism-VTE-diagnosis-and-treatment-percentage-of-patients-with-VTE-who-are-prescribed-UFH-and-LMWH-who-have-appropriate-laboratory-tests-platelets-PTT-for-those-on-UFH-available-to-monitor-and-adjust-therapy\n",
      "http://wayback.archive-it.org/all/20160930145023/https://www.qualitymeasures.ahrq.gov/summaries/summary/39420/Venous-thromboembolism-VTE-diagnosis-and-treatment-percentage-of-patients-with-suspected-VTE-who-have-a-clinical-pretest-probability-CPTP-assessment-completed\n",
      "http://wayback.archive-it.org/all/20160930145008/https://www.qualitymeasures.ahrq.gov/summaries/summary/39421/Venous-thromboembolism-VTE-diagnosis-and-treatment-percentage-of-patients-suspected-of-DVT-who-have-leg-duplex-ultrasound-DUS-performed-despite-a-low-clinical-pretest-probability-CPTP-and-a-negative-Ddimer-test\n",
      "http://wayback.archive-it.org/all/20160930145000/https://www.qualitymeasures.ahrq.gov/summaries/summary/39422/Venous-thromboembolism-VTE-diagnosis-and-treatment-percentage-of-patients-diagnosed-with-lower-extremity-VTE-who-meet-the-criteria-for-LMWH-and-for-whom-shared-decisionmaking-was-used-prior-to-implementing-therapy\n",
      "http://wayback.archive-it.org/all/20160930145016/https://www.qualitymeasures.ahrq.gov/summaries/summary/39423/Venous-thromboembolism-VTE-diagnosis-and-treatment-percentage-of-patients-with-any-of-these-diagnosis---VTE-PE-DVT---indicating-a-complete-list-of-medications-was-communicated-to-the-next-clinician-of-service-when-the-patient-is-referred-or-transferred-to-anot\n",
      "http://wayback.archive-it.org/all/20160930144734/https://www.qualitymeasures.ahrq.gov/summaries/summary/39531/NonOR-procedural-safety-percentage-of-wrong-invasive-or-highrisk-procedure-events-outside-of-the-operating-room-per-month\n",
      "http://wayback.archive-it.org/all/20160930144728/https://www.qualitymeasures.ahrq.gov/summaries/summary/39532/NonOR-procedural-safety-percentage-of-invasive-or-highrisk-procedures-outside-of-the-operating-room-that-met-observational-compliance\n",
      "http://wayback.archive-it.org/all/20160930144743/https://www.qualitymeasures.ahrq.gov/summaries/summary/43818/Diagnosis-and-treatment-of-headache-percentage-of-patients-diagnosed-with-primary-headache-using-the-appropriate-diagnostic-criteria\n",
      "http://wayback.archive-it.org/all/20160930144751/https://www.qualitymeasures.ahrq.gov/summaries/summary/43819/Diagnosis-and-treatment-of-headache-percentage-of-patients-with-a-primary-headache-who-received-educational-materials-on-headache\n",
      "http://wayback.archive-it.org/all/20160930144818/https://www.qualitymeasures.ahrq.gov/summaries/summary/43820/Diagnosis-and-treatment-of-headache-percentage-of-patients-with-migraine-headache-who-are-showing-improvement-in-functional-status-shown-by-using-one-of-the-following-diseasespecific-tools-or-questionnaires-eg-MIDAS-Headache-Impact-Test-HIT-Migraine-Specific-Q\n",
      "http://wayback.archive-it.org/all/20160930144842/https://www.qualitymeasures.ahrq.gov/summaries/summary/43821/Diagnosis-and-treatment-of-headache-percentage-of-patients-with-primary-headache-syndrome-who-are-prescribed-prophylactic-treatment-when-appropriate\n",
      "http://wayback.archive-it.org/all/20160930144812/https://www.qualitymeasures.ahrq.gov/summaries/summary/43822/Diagnosis-and-treatment-of-headache-percentage-of-patients-with-migraine-headache-seen-for-migraine-in-the-emergency-departmenturgent-care\n",
      "http://wayback.archive-it.org/all/20160930144758/https://www.qualitymeasures.ahrq.gov/summaries/summary/43823/Diagnosis-and-treatment-of-headache-percentage-of-patients-with-decreased-migraine-headache-shown-by-using-a-calendar-or-diary\n",
      "http://wayback.archive-it.org/all/20160930144836/https://www.qualitymeasures.ahrq.gov/summaries/summary/43824/Diagnosis-and-treatment-of-headache-percentage-of-patients-with-migraine-headache-with-treatment-plans\n",
      "http://wayback.archive-it.org/all/20160930144830/https://www.qualitymeasures.ahrq.gov/summaries/summary/43825/Diagnosis-and-treatment-of-headache-percentage-of-patients-with-migraine-headache-with-a-treatment-plan-who-report-adherence-to-their-treatment-plan\n",
      "http://wayback.archive-it.org/all/20160930144824/https://www.qualitymeasures.ahrq.gov/summaries/summary/43826/Diagnosis-and-treatment-of-headache-percentage-of-patients-with-migraine-headache-with-a-prescription-for-opiates-or-barbiturates-for-the-treatment-of-migraine\n",
      "http://wayback.archive-it.org/all/20160930144806/https://www.qualitymeasures.ahrq.gov/summaries/summary/43827/Diagnosis-and-treatment-of-headache-percentage-of-patients-with-migraine-headache-prescribed-appropriate-acute-treatment\n",
      "http://wayback.archive-it.org/all/20160930144854/https://www.qualitymeasures.ahrq.gov/summaries/summary/43828/Diagnosis-and-treatment-of-respiratory-illness-in-children-and-adults-percentage-of-patients-diagnosed-with-a-viral-upperrespiratory-infection-who-do-not-receive-an-antibiotic\n",
      "http://wayback.archive-it.org/all/20160930144848/https://www.qualitymeasures.ahrq.gov/summaries/summary/43829/Diagnosis-and-treatment-of-respiratory-illness-in-children-and-adults-percentage-of-patients-andor-parents-of-children-with-a-viral-upperrespiratory-infection-who-receive-home-treatment-education\n",
      "http://wayback.archive-it.org/all/20160930144925/https://www.qualitymeasures.ahrq.gov/summaries/summary/43830/Diagnosis-and-treatment-of-respiratory-illness-in-children-and-adults-percentage-of-patients-diagnosed-with-strep-pharyngitis-who-had-a-rapid-group-A-strep-test-or-strep-culture\n",
      "http://wayback.archive-it.org/all/20160930144919/https://www.qualitymeasures.ahrq.gov/summaries/summary/43831/Diagnosis-and-treatment-of-respiratory-illness-in-children-and-adults-percentage-of-patients-diagnosed-with-strep-pharyngitis-prescribed-firstline-medications-for-strep-pharyngitis\n",
      "http://wayback.archive-it.org/all/20160930144931/https://www.qualitymeasures.ahrq.gov/summaries/summary/43832/Diagnosis-and-treatment-of-respiratory-illness-in-children-and-adults-percentage-of-patients-diagnosed-with-strep-pharyngitis-and-prescribed-antibiotics-who-had-a-negative-culture-or-no-rapid-group-A-strep-test-or-strep-culture\n",
      "http://wayback.archive-it.org/all/20160930144937/https://www.qualitymeasures.ahrq.gov/summaries/summary/43833/Diagnosis-and-treatment-of-respiratory-illness-in-children-and-adults-percentage-of-patients-with-strep-pharyngitis-prescribed-antibiotics-with-documentation-of-education-on-24hour-treatment-prior-to-returning-to-work-school-or-day-care\n",
      "http://wayback.archive-it.org/all/20160930144913/https://www.qualitymeasures.ahrq.gov/summaries/summary/43834/Diagnosis-and-treatment-of-respiratory-illness-in-children-and-adults-percentage-of-patients-diagnosed-with-strep-pharyngitis-prescribed-antibiotics-with-documentation-of-being-educated-on-taking-the-complete-course\n",
      "http://wayback.archive-it.org/all/20160930144908/https://www.qualitymeasures.ahrq.gov/summaries/summary/43835/Diagnosis-and-treatment-of-respiratory-illness-in-children-and-adults-percentage-of-patients-diagnosed-with-strep-pharyngitis-instructed-on-actions-to-take-if-symptoms-worsen\n",
      "http://wayback.archive-it.org/all/20160930144902/https://www.qualitymeasures.ahrq.gov/summaries/summary/43836/Diagnosis-and-treatment-of-respiratory-illness-in-children-and-adults-percentage-of-patients-diagnosed-with-seasonal-allergic-rhinitis-being-treated-with-injectable-corticosteroids\n",
      "http://wayback.archive-it.org/all/20160930145152/https://www.qualitymeasures.ahrq.gov/summaries/summary/45140/Management-of-labor-percentage-of-patients-with-preterm-labor-who-received-antenatal-corticosteroids-prior-to-delivery\n",
      "http://wayback.archive-it.org/all/20160930145158/https://www.qualitymeasures.ahrq.gov/summaries/summary/45141/Management-of-labor-percentage-of-patients-with-protracted-labor-who-are-administered-oxytocin\n",
      "http://wayback.archive-it.org/all/20160930145128/https://www.qualitymeasures.ahrq.gov/summaries/summary/45142/Management-of-labor-percentage-of-patients-who-are-assessed-for-risk-status-on-entry-to-labor-and-delivery\n",
      "http://wayback.archive-it.org/all/20160930145139/https://www.qualitymeasures.ahrq.gov/summaries/summary/45144/Management-of-labor-percentage-of-patients-whose-oxytocin-is-discontinued\n",
      "http://wayback.archive-it.org/all/20160930145133/https://www.qualitymeasures.ahrq.gov/summaries/summary/45145/Management-of-labor-percentage-of-patients-who-have-an-IV-fluid-bolus-administered\n",
      "http://wayback.archive-it.org/all/20160930145145/https://www.qualitymeasures.ahrq.gov/summaries/summary/45146/Management-of-labor-percentage-of-patients-whose-position-is-changed-to-the-left-or-right-side-to-decrease-compression-of-vena-cava\n",
      "http://wayback.archive-it.org/all/20160930145430/https://www.qualitymeasures.ahrq.gov/summaries/summary/46813/Stable-coronary-artery-disease-percentage-of-patients-with-stable-coronary-artery-disease-who-are-prescribed-aspirin-and-antiatherosclerotic-medications\n",
      "http://wayback.archive-it.org/all/20160930145452/https://www.qualitymeasures.ahrq.gov/summaries/summary/46814/Stable-coronary-artery-disease-percentage-of-patients-with-stable-coronary-artery-disease-who-have-demonstrated-an-understanding-of-how-to-respond-in-an-acute-cardiac-event-by-teaching-back-as-to-how-they-would-respond-in-the-case-of-acute-cardiac-event\n",
      "http://wayback.archive-it.org/all/20160930145248/https://www.qualitymeasures.ahrq.gov/summaries/summary/46815/Stable-coronary-artery-disease-percentage-of-patients-who-smoke-with-documentation-in-the-medical-record-that-advice-to-quit-was-provided-andor-help-to-quit-was-provided\n",
      "http://wayback.archive-it.org/all/20160930145321/https://www.qualitymeasures.ahrq.gov/summaries/summary/46816/Stable-coronary-artery-disease-percentage-of-patients-with-cardiovascular-disease-who-received-an-annual-influenza-vaccination\n",
      "http://wayback.archive-it.org/all/20160930145355/https://www.qualitymeasures.ahrq.gov/summaries/summary/46817/Stable-coronary-artery-disease-percentage-of-patients-with-documentation-in-the-medical-record-of-receiving-a-pneumonia-vaccination-according-to-the-CDC-recommendations\n",
      "http://wayback.archive-it.org/all/20160930145338/https://www.qualitymeasures.ahrq.gov/summaries/summary/46818/Stable-coronary-artery-disease-percentage-of-patients-with-documentation-in-the-medical-record-of-physical-activity-goal-and-when-the-goal-was-met\n",
      "http://wayback.archive-it.org/all/20160930145254/https://www.qualitymeasures.ahrq.gov/summaries/summary/46819/Stable-coronary-artery-disease-percentage-of-patients-who-were-screened-for-depression-using-the-PHQ9\n",
      "http://wayback.archive-it.org/all/20160930145415/https://www.qualitymeasures.ahrq.gov/summaries/summary/46820/Stable-coronary-artery-disease-percentage-of-patients-with-documentation-in-the-medical-record-that-an-LDL-was-obtained-within-the-last-12-months-with-an-LDL-less-than-100-mgdL-Consider-less-than-70-mgdL-for-highrisk-patient\n",
      "http://wayback.archive-it.org/all/20160930145313/https://www.qualitymeasures.ahrq.gov/summaries/summary/46821/Stable-coronary-artery-disease-percentage-of-patients-with-a-documented-blood-pressure-in-the-medical-record-of-14090-mmHg-or-less\n",
      "http://wayback.archive-it.org/all/20160930145326/https://www.qualitymeasures.ahrq.gov/summaries/summary/46822/Stable-coronary-artery-disease-percentage-of-patients-with-diabetes-with-a-documented-HbA1c-of-less-than-70-or-meeting-the-patients-individualized-HbA1c-goal\n",
      "http://wayback.archive-it.org/all/20160930145332/https://www.qualitymeasures.ahrq.gov/summaries/summary/46823/Stable-coronary-artery-disease-percentage-of-patients-with-diagnosis-of-stable-coronary-artery-disease-with-systolic-CHF-ejection-fraction-less-than-or-equal-to-40-who-are-prescribed-an-ACE-inhibitor-or-ARB\n",
      "http://wayback.archive-it.org/all/20160930145302/https://www.qualitymeasures.ahrq.gov/summaries/summary/46824/Stable-coronary-artery-disease-percentage-of-patients-with-a-diagnosis-of-stable-coronary-artery-disease-and-chronic-kidney-disease-who-are-prescribed-an-ACE-inhibitor-or-ARB\n",
      "http://wayback.archive-it.org/all/20160930145308/https://www.qualitymeasures.ahrq.gov/summaries/summary/46825/Stable-coronary-artery-disease-percentage-of-patients-with-a-diagnosis-of-stable-coronary-artery-disease-and-hypertension-who-are-prescribed-an-ACE-inhibitor-or-ARB\n",
      "http://wayback.archive-it.org/all/20160930145345/https://www.qualitymeasures.ahrq.gov/summaries/summary/46826/Stable-coronary-artery-disease-percentage-of-patients-with-documentation-in-the-medical-record-of-prognostic-assessment-preceding-or-following-a-course-of-pharmacologic-therapy\n",
      "http://wayback.archive-it.org/all/20160930145205/https://www.qualitymeasures.ahrq.gov/summaries/summary/46827/Prevention-and-management-of-obesity-for-adults-percentage-of-patients-who-have-an-annual-BMI-measured-and-documented\n",
      "http://wayback.archive-it.org/all/20160930145228/https://www.qualitymeasures.ahrq.gov/summaries/summary/46828/Prevention-and-management-of-obesity-for-adults-percentage-of-patients-with-a-BMI-greater-than-or-equal-to-25-who-received-education-and-counseling-for-weight-management-strategies-that-include-nutrition-physical-activity-lifestyle-changes-medication-therapy-a\n",
      "http://wayback.archive-it.org/all/20160930145220/https://www.qualitymeasures.ahrq.gov/summaries/summary/46829/Prevention-and-management-of-obesity-for-adults-percentage-of-patients-with-a-BMI-greater-than-or-equal-to-25-who-have-reduced-their-weight-by-5\n",
      "http://wayback.archive-it.org/all/20160930145242/https://www.qualitymeasures.ahrq.gov/summaries/summary/46830/Prevention-and-management-of-obesity-for-adults-percentage-of-patients-with-BMI-greater-than-or-equal-to-25-who-have-30-minutes-of-any-type-of-physical-activity-five-times-per-week-documented\n",
      "http://wayback.archive-it.org/all/20160930145214/https://www.qualitymeasures.ahrq.gov/summaries/summary/46831/Prevention-and-management-of-obesity-for-adults-percentage-of-patients-with-a-BMI-greater-than-or-equal-to-25-who-have-reduced-their-weight-by-10\n",
      "http://wayback.archive-it.org/all/20160930145233/https://www.qualitymeasures.ahrq.gov/summaries/summary/46832/Prevention-and-management-of-obesity-for-adults-percentage-of-patients-with-a-BMI-greater-than-or-equal-to-40-who-have-been-provided-with-a-referral-to-a-bariatric-specialist\n",
      "http://wayback.archive-it.org/all/20160930145552/https://www.qualitymeasures.ahrq.gov/summaries/summary/47032/Heart-failure-in-adults-percentage-of-patients-with-heart-failure-diagnosis-and-LVSD-who-at-the-last-clinic-visit-met-the-following-if-eligible-prescribed-or-were-on-ACEIARB-prescribed-or-were-on-betablocker-therapy-and-a-nonsmoker\n",
      "http://wayback.archive-it.org/all/20160930145727/https://www.qualitymeasures.ahrq.gov/summaries/summary/47033/Heart-failure-in-adults-percentage-of-patients-with-heart-failure-diagnosis-who-were-educated-on-the-management-of-their-condition\n",
      "http://wayback.archive-it.org/all/20160930145648/https://www.qualitymeasures.ahrq.gov/summaries/summary/47034/Heart-failure-in-adults-percentage-of-patients-with-heart-failure-diagnosis-who-have-a-followup-appointment-with-their-primary-care-clinician-within-seven-days-of-hospital-discharge\n",
      "http://wayback.archive-it.org/all/20160930145518/https://www.qualitymeasures.ahrq.gov/summaries/summary/47035/Heart-failure-in-adults-percentage-of-heart-failure-patients-who-are-current-smokers-or-tobacco-users-who-received-smoking-cessation-advice-or-counseling-in-primary-care\n",
      "http://wayback.archive-it.org/all/20160930145754/https://www.qualitymeasures.ahrq.gov/summaries/summary/47110/Prevention-and-management-of-obesity-for-children-and-adolescents-percentage-of-patients-who-have-an-annual-BMI-measured\n",
      "http://wayback.archive-it.org/all/20160930145828/https://www.qualitymeasures.ahrq.gov/summaries/summary/47111/Prevention-and-management-of-obesity-for-children-and-adolescents-percentage-of-patients-with-BMI-screening-whose-BMI-percentile-is-between-85-and-94\n",
      "http://wayback.archive-it.org/all/20160930145835/https://www.qualitymeasures.ahrq.gov/summaries/summary/47112/Prevention-and-management-of-obesity-for-children-and-adolescents-percentage-of-patients-with-BMI-screening-whose-BMI-percentile-is-greater-than-or-equal-to-95\n",
      "http://wayback.archive-it.org/all/20160930145821/https://www.qualitymeasures.ahrq.gov/summaries/summary/47113/Prevention-and-management-of-obesity-for-children-and-adolescents-percentage-of-patients-with-BMI-screening-who-have-received-education-regarding-weight-management-strategies-that-include-nutrition-and-physical-activity\n",
      "http://wayback.archive-it.org/all/20160930145811/https://www.qualitymeasures.ahrq.gov/summaries/summary/47114/Prevention-and-management-of-obesity-for-children-and-adolescents-percentage-of-patients-with-BMI-screening-percentile-greater-than-or-equal-to-85-who-have-cholesterol-screening\n",
      "http://wayback.archive-it.org/all/20160930145801/https://www.qualitymeasures.ahrq.gov/summaries/summary/47115/Prevention-and-management-of-obesity-for-children-and-adolescents-percentage-of-patients-with-BMI-screening-percentile-greater-than-or-equal-85-whose-BMI-percentile-decreased-within-12-months-of-screening\n",
      "http://wayback.archive-it.org/all/20160930145903/https://www.qualitymeasures.ahrq.gov/summaries/summary/47331/Preventive-services-for-children-and-adolescents-percentage-of-patients-who-by-age-13-years-were-uptodate-with-recommended-adolescent-immunizations-1-one-HPV---human-papillomavirus-vaccine-by-age-13-2-one-MCV4---meningococcal-3-one-Tdap---tetanus-diphtheria-to\n",
      "http://wayback.archive-it.org/all/20160930145911/https://www.qualitymeasures.ahrq.gov/summaries/summary/47332/Preventive-services-for-children-and-adolescents-percentage-of-sexually-active-women-age-25-years-and-younger-who-have-had-screening-for-chlamydia\n",
      "http://wayback.archive-it.org/all/20160930145843/https://www.qualitymeasures.ahrq.gov/summaries/summary/47333/Preventive-services-for-children-and-adolescents-percentage-of-newborns-who-have-had-neonatal-screening-for-hemoglobinopathies-phenylketonuria-and-hypothyroidism-in-the-first-week-of-life\n",
      "http://wayback.archive-it.org/all/20160930145850/https://www.qualitymeasures.ahrq.gov/summaries/summary/47334/Preventive-services-for-children-and-adolescents-percentage-of-patients-age-five-years-and-younger-who-have-had-vision-impairment-screening\n",
      "http://wayback.archive-it.org/all/20160930145923/https://www.qualitymeasures.ahrq.gov/summaries/summary/47659/Diagnosis-and-treatment-of-osteoporosis-percentage-of-patients-who-were-assessed-for-risk-factors-for-osteoporosis-during-an-annual-preventive-visit\n",
      "http://wayback.archive-it.org/all/20160930145929/https://www.qualitymeasures.ahrq.gov/summaries/summary/47660/Diagnosis-and-treatment-of-osteoporosis-percentage-of-patients-who-were-found-to-be-at-risk-for-bone-loss-or-fractures-who-had-bone-densitometry\n",
      "http://wayback.archive-it.org/all/20160930145954/https://www.qualitymeasures.ahrq.gov/summaries/summary/47661/Diagnosis-and-treatment-of-osteoporosis-percentage-of-patients-with-whom-adequacy-of-vitamin-D-and-calcium-dietary-supplementation-were-addressed\n",
      "http://wayback.archive-it.org/all/20160930145916/https://www.qualitymeasures.ahrq.gov/summaries/summary/47662/Diagnosis-and-treatment-of-osteoporosis-percentage-of-patients-diagnosed-with-osteoporosis-who-are-on-pharmacologic-therapy\n",
      "http://wayback.archive-it.org/all/20160930145944/https://www.qualitymeasures.ahrq.gov/summaries/summary/47663/Diagnosis-and-treatment-of-osteoporosis-percentage-of-patients-with-a-history-of-lowimpact-fragility-fracture-who-were-assessed-for-osteoporosis\n",
      "http://wayback.archive-it.org/all/20160930145939/https://www.qualitymeasures.ahrq.gov/summaries/summary/47664/Diagnosis-and-treatment-of-osteoporosis-percentage-of-patients-with-a-history-of-lowimpact-fragility-fracture-assessed-for-secondary-causes-of-osteoporosis\n",
      "http://wayback.archive-it.org/all/20160930145934/https://www.qualitymeasures.ahrq.gov/summaries/summary/47665/Diagnosis-and-treatment-of-osteoporosis-percentage-of-patients-with-a-history-of-lowimpact-fragility-fracture-and-diagnosed-with-osteoporosis-due-to-secondary-causes-offered-treatment\n",
      "http://wayback.archive-it.org/all/20160930145949/https://www.qualitymeasures.ahrq.gov/summaries/summary/47666/Diagnosis-and-treatment-of-osteoporosis-percentage-of-patients-with-a-lowimpact-fragility-fracture-who-are-taking-calcium-and-vitamin-D-dietary-supplementation\n",
      "http://wayback.archive-it.org/all/20160930150032/https://www.qualitymeasures.ahrq.gov/summaries/summary/47725/Palliative-care-for-adults-percentage-of-adult-patients-with-a-serious-illness-who-have-been-screened-for-palliative-care\n",
      "http://wayback.archive-it.org/all/20160930150042/https://www.qualitymeasures.ahrq.gov/summaries/summary/47726/Palliative-care-for-adults-percentage-of-clinicians-who-have-education-and-training-regarding-palliative-care-concepts\n",
      "http://wayback.archive-it.org/all/20160930150048/https://www.qualitymeasures.ahrq.gov/summaries/summary/47727/Palliative-care-for-adults-percentage-of-clinicians-who-have-training-in-the-use-of-scripting-for-palliative-care-discussions\n",
      "http://wayback.archive-it.org/all/20160930150026/https://www.qualitymeasures.ahrq.gov/summaries/summary/47728/Palliative-care-for-adults-percentage-of-adult-patients-with-a-serious-illness-who-have-been-assessed-for-the-domains-of-palliative-care\n",
      "http://wayback.archive-it.org/all/20160930150020/https://www.qualitymeasures.ahrq.gov/summaries/summary/47729/Palliative-care-for-adults-percentage-of-adult-patients-with-a-serious-illness-who-have-a-symptom-assessment-documented-in-the-medical-record\n",
      "http://wayback.archive-it.org/all/20160930150052/https://www.qualitymeasures.ahrq.gov/summaries/summary/47730/Palliative-care-for-adults-percentage-of-patients-who-have-treatment-options-patient-goals-and-a-plan-of-care-across-care-continuum-documented\n",
      "http://wayback.archive-it.org/all/20160930150014/https://www.qualitymeasures.ahrq.gov/summaries/summary/47731/Palliative-care-for-adults-percentage-of-adult-patients-with-a-serious-illness-who-have-a-revised-documented-care-plan-that-addresses-the-domains-of-palliative-care\n",
      "http://wayback.archive-it.org/all/20160930150005/https://www.qualitymeasures.ahrq.gov/summaries/summary/47732/Palliative-care-for-adults-percentage-of-adult-patients-with-a-serious-illness-who-have-a-revised-symptom-assessment-in-the-medical-record\n",
      "http://wayback.archive-it.org/all/20160930150037/https://www.qualitymeasures.ahrq.gov/summaries/summary/47733/Palliative-care-for-adults-percentage-of-adult-patients-with-a-serious-illness-who-have-documentation-in-the-medical-record-of-a-completed-advance-directive\n",
      "http://wayback.archive-it.org/all/20160930145959/https://www.qualitymeasures.ahrq.gov/summaries/summary/47734/Palliative-care-for-adults-percentage-of-adult-patients-with-a-serious-illness-who-have-a-completed-PhysicianProvider-Order-for-LifeSustaining-Treatment-POLST-form-documented-in-the-medical-record\n",
      "http://wayback.archive-it.org/all/20160930150156/https://www.qualitymeasures.ahrq.gov/summaries/summary/47735/Assessment-and-management-of-chronic-pain-percentage-of-patients-diagnosed-with-chronic-pain-with-functional-outcome-goals-documented-in-the-medical-record\n",
      "http://wayback.archive-it.org/all/20160930150201/https://www.qualitymeasures.ahrq.gov/summaries/summary/47736/Assessment-and-management-of-chronic-pain-percentage-of-patients-diagnosed-with-chronic-pain-with-referral-to-physical-rehabilitation-andor-behavioral-management-therapy\n",
      "http://wayback.archive-it.org/all/20160930150206/https://www.qualitymeasures.ahrq.gov/summaries/summary/47737/Assessment-and-management-of-chronic-pain-percentage-of-patients-with-chronic-pain-diagnosis-with-documentation-of-a-pain-assessment-completed-at-initial-visit-using-a-standardized-tool-that-addresses-pain-intensity-location-pattern-mechanism-of-pain-current-f\n",
      "http://wayback.archive-it.org/all/20160930150145/https://www.qualitymeasures.ahrq.gov/summaries/summary/47738/Assessment-and-management-of-chronic-pain-percentage-of-patients-diagnosed-with-chronic-pain-with-documentation-of-receiving-education-regarding-their-diagnosis-of-chronic-pain-medications-importance-of-physical-activity-andor-any-interventional-procedures-in-\n",
      "http://wayback.archive-it.org/all/20160930150140/https://www.qualitymeasures.ahrq.gov/summaries/summary/47739/Assessment-and-management-of-chronic-pain-percentage-of-patients-diagnosed-with-chronic-pain-with-documentation-of-reassessment-of-pain-at-followup-visits-using-a-standardized-tool-that-addresses-pain-intensity-location-pattern-and-current-functional-status\n",
      "http://wayback.archive-it.org/all/20160930150151/https://www.qualitymeasures.ahrq.gov/summaries/summary/47740/Assessment-and-management-of-chronic-pain-percentage-of-patients-diagnosed-with-chronic-pain-with-documentation-of-screening-for-major-depression-and-chemical-dependency\n",
      "http://wayback.archive-it.org/all/20160930150124/https://www.qualitymeasures.ahrq.gov/summaries/summary/47741/Assessment-and-management-of-chronic-pain-percentage-of-patients-diagnosed-with-chronic-pain-who-have-documentation-of-a-plan-of-care-that-addresses-personal-goals-sleep-physical-activity-stress-management-and-pain-reduction-in-the-medical-record-and-identifie\n",
      "http://wayback.archive-it.org/all/20160930150058/https://www.qualitymeasures.ahrq.gov/summaries/summary/47742/Assessment-and-management-of-chronic-pain-percentage-of-chronic-pain-patients-who-are-referred-to-diagnostic-andor-therapeutic-procedures-if-the-goals-for-pain-control-or-functional-status-have-not-been-met\n",
      "http://wayback.archive-it.org/all/20160930150130/https://www.qualitymeasures.ahrq.gov/summaries/summary/47743/Assessment-and-management-of-chronic-pain-percentage-of-patients-diagnosed-with-chronic-pain-who-have-not-met-pain-control-or-functional-status-goals-who-are-referred-to-pain-specialist-or-interdisciplinary-pain-team\n",
      "http://wayback.archive-it.org/all/20160930150135/https://www.qualitymeasures.ahrq.gov/summaries/summary/47744/Assessment-and-management-of-chronic-pain-percentage-of-patients-diagnosed-with-chronic-pain-with-a-diagnosis-of-neuropathic-pain-who-are-prescribed-a-sedative-analgesic-OR-anticonvulsant-prior-to-use-of-opioids\n",
      "http://wayback.archive-it.org/all/20160930150114/https://www.qualitymeasures.ahrq.gov/summaries/summary/47745/Assessment-and-management-of-chronic-pain-percentage-of-patients-diagnosed-with-chronic-pain-who-are-receiving-opioids-who-have-documentation-of-the-four-As-assessment-1-the-degree-of-analgesia-2-current-opioidrelated-side-effects-3-current-functional-status-a\n",
      "http://wayback.archive-it.org/all/20160930150109/https://www.qualitymeasures.ahrq.gov/summaries/summary/47746/Assessment-and-management-of-chronic-pain-percentage-of-patients-diagnosed-with-chronic-pain-who-are-prescribed-an-opioid-who-have-an-opioid-agreement-form-and-urine-toxicology-screen-documented-in-the-medical-record\n",
      "http://wayback.archive-it.org/all/20160930150119/https://www.qualitymeasures.ahrq.gov/summaries/summary/47747/Assessment-and-management-of-chronic-pain-percentage-of-patients-diagnosed-with-chronic-pain-who-are-screened-for-chemical-dependency-before-being-prescribed-opioid-medication\n",
      "http://wayback.archive-it.org/all/20160930150103/https://www.qualitymeasures.ahrq.gov/summaries/summary/47748/Assessment-and-management-of-chronic-pain-percentage-of-patients-diagnosed-with-chronic-pain-who-are-prescribed-an-opioid-at-a-dose-less-than-100-mg-per-day-of-morphine\n",
      "http://wayback.archive-it.org/all/20160930150239/https://www.qualitymeasures.ahrq.gov/summaries/summary/47808/Lipid-management-in-adults-percentage-of-patients-with-established-atherosclerotic-cardiovascular-disease-ASCVD-or-a-10year-risk-for-CHD-greater-than-or-equal-to-10-or-diabetes-who-are-on-a-statin-or-have-LDL-less-than-100-mldL-within-a-12month-period\n",
      "http://wayback.archive-it.org/all/20160930150231/https://www.qualitymeasures.ahrq.gov/summaries/summary/47809/Lipid-management-in-adults-percentage-of-patients-with-established-atherosclerotic-cardiovascular-disease-ASCVD-or-10year-CHD-risk-greater-than-or-equal-to-10-or-diabetes-and-on-lipidlowering-medication-who-have-a-fasting-lipid-panel-within-24-months-of-medica\n",
      "http://wayback.archive-it.org/all/20160930150218/https://www.qualitymeasures.ahrq.gov/summaries/summary/47810/Lipid-management-in-adults-percentage-of-patients-with-established-ASCVD-or-a-10year-CHD-risk-greater-than-or-equal-to-10-or-diabetes-on-lipidlowering-medication-and-most-recent-LDL-greater-than-100-mgdL-who-are-prescribed-a-maximal-recommended-dose-of-a-poten\n",
      "http://wayback.archive-it.org/all/20160930150212/https://www.qualitymeasures.ahrq.gov/summaries/summary/47811/Lipid-management-in-adults-percentage-of-patients-with-established-ASCVD-or-10year-CHD-risk-greater-than-or-equal-to-10-or-diabetes-and-on-lipidlowering-therapy-who-remain-on-lipidlowering-pharmacotherapy-12-months-after-therapy-was-prescribed\n",
      "http://wayback.archive-it.org/all/20160930150332/https://www.qualitymeasures.ahrq.gov/summaries/summary/48383/Perioperative-protocol-percentage-of-patients-undergoing-elective-nonhighrisk-surgery-with-a-preoperative-basic-health-assessment-completed-prior-to-the-day-of-the-scheduled-procedure\n",
      "http://wayback.archive-it.org/all/20160930150309/https://www.qualitymeasures.ahrq.gov/summaries/summary/48384/Perioperative-protocol-percentage-of-patients-undergoing-elective-nonhighrisk-surgery-having-laboratory-testsimaging-unrelated-to-positive-findings-on-preoperative-basic-health-assessment\n",
      "http://wayback.archive-it.org/all/20160930150258/https://www.qualitymeasures.ahrq.gov/summaries/summary/48385/Perioperative-protocol-percentage-of-patients-undergoing-cataract-surgery-who-have-electrocardiograms-performed-as-part-of-the-preoperative-assessment-prior-to-cataract-surgery\n",
      "http://wayback.archive-it.org/all/20160930150348/https://www.qualitymeasures.ahrq.gov/summaries/summary/48386/Perioperative-protocol-percentage-of-patients-with-comorbidities-undergoing-elective-nonhighrisk-surgery-who-have-appropriate-management-of-comorbidities-prior-to-surgery-including-antithrombotic-therapy-recent-coronary-stentantiplatelet-therapy-betablocker-th\n",
      "http://wayback.archive-it.org/all/20160930150356/https://www.qualitymeasures.ahrq.gov/summaries/summary/48387/Perioperative-protocol-percentage-of-patients-with-comorbidities-undergoing-elective-nonhighrisk-surgery-who-have-preoperative-recommendations-documentedcommunicated-to-the-patient-andor-surgical-facility-for-all-of-the-following-applicable-comorbidities-antit\n",
      "http://wayback.archive-it.org/all/20160930150402/https://www.qualitymeasures.ahrq.gov/summaries/summary/48388/Perioperative-protocol-percentage-of-patients-with-comorbidities-who-have-preoperative-education-documented-for-all-specified-applicable-comorbidities\n",
      "http://wayback.archive-it.org/all/20160930150342/https://www.qualitymeasures.ahrq.gov/summaries/summary/48389/Perioperative-protocol-percentage-of-patients-who-have-canceled-or-delayed-nonhighrisk-surgical-procedures-due-to-incomplete-preoperative-basic-health-assessment-documentation\n",
      "http://wayback.archive-it.org/all/20160930150252/https://www.qualitymeasures.ahrq.gov/summaries/summary/48390/Perioperative-protocol-percentage-of-canceled-or-delayed-surgical-procedures-due-to-ineffective-communication-regarding-patient-information-as-defined-by-organizational-procedures\n",
      "http://wayback.archive-it.org/all/20160930150446/https://www.qualitymeasures.ahrq.gov/summaries/summary/48391/Perioperative-protocol-percentage-of-wrong-surgery-events-per-month\n",
      "http://wayback.archive-it.org/all/20160930150440/https://www.qualitymeasures.ahrq.gov/summaries/summary/48392/Perioperative-protocol-percentage-of-unintentionally-retained-foreign-objects-in-surgical-cases-per-month\n",
      "http://wayback.archive-it.org/all/20160930150411/https://www.qualitymeasures.ahrq.gov/summaries/summary/48393/Perioperative-protocol-percentage-of-preoperative-wound-infections-by-wound-classifications-Class-I-clean-Class-II-clean-contaminated-and-Class-III-contaminated\n",
      "http://wayback.archive-it.org/all/20160930150435/https://www.qualitymeasures.ahrq.gov/summaries/summary/48394/Perioperative-protocol-percentage-of-surgical-patients-with-documentation-of-preoperative-verification-of-correct-patient-procedure-and-sitesidelevel\n",
      "http://wayback.archive-it.org/all/20160930150246/https://www.qualitymeasures.ahrq.gov/summaries/summary/48395/Perioperative-protocol-percentage-of-appropriate-surgical-patients-who-had-their-site-marked-by-the-surgeon-in-preoperative-with-hisher-initials\n",
      "http://wayback.archive-it.org/all/20160930150417/https://www.qualitymeasures.ahrq.gov/summaries/summary/48396/Perioperative-protocol-percentage-of-surgical-cases-in-which-a-verbal-active-TimeOut-has-been-conducted-by-all-appropriate-members-of-the-surgical-team-prior-to-incision\n",
      "http://wayback.archive-it.org/all/20160930150430/https://www.qualitymeasures.ahrq.gov/summaries/summary/48397/Perioperative-protocol-percentage-of-surgical-cases-where-the-baseline-count-was-conducted-prior-to-the-patient-arriving-in-the-operatingprocedure-room\n",
      "http://wayback.archive-it.org/all/20160930150424/https://www.qualitymeasures.ahrq.gov/summaries/summary/48398/Perioperative-protocol-percentage-of-surgical-cases-where-counts-were-not-reconciled-and-imaging-was-performed\n",
      "http://wayback.archive-it.org/all/20160930150458/https://www.qualitymeasures.ahrq.gov/summaries/summary/48462/Diagnosis-and-management-of-type-2-diabetes-mellitus-T2DM-in-adults-percentage-of-patients-ages-18-to-75-years-old-with-T2DM-who-are-optimally-managed-according-to-the-specified-components\n",
      "http://wayback.archive-it.org/all/20160930150503/https://www.qualitymeasures.ahrq.gov/summaries/summary/48468/Diagnosis-and-management-of-type-2-diabetes-mellitus-T2DM-in-adults-percentage-of-patients-ages-18-to-75-years-old-with-T2DM-with-poorly-controlled-glucose-or-any-of-the-specified-cardiovascular-risk-factors\n",
      "http://wayback.archive-it.org/all/20160930150452/https://www.qualitymeasures.ahrq.gov/summaries/summary/48469/Diagnosis-and-management-of-type-2-diabetes-mellitus-T2DM-in-adults-percentage-of-newly-diagnosed-patients-who-are-advised-about-lifestyle-modification-and-nutrition-therapy-within-one-year-of-diagnosis\n",
      "http://wayback.archive-it.org/all/20160930150518/https://www.qualitymeasures.ahrq.gov/summaries/summary/48470/Diagnosis-and-management-of-type-2-diabetes-mellitus-T2DM-in-adults-percentage-of-patients-ages-40-to-75-years-old-with-untreated-LDL-greater-than-70-mgdL-who-are-prescribed-statin-therapy\n",
      "http://wayback.archive-it.org/all/20160930150527/https://www.qualitymeasures.ahrq.gov/summaries/summary/48471/Diagnosis-and-management-of-type-2-diabetes-mellitus-T2DM-in-adults-percentage-of-patients-with-established-ASCVD-with-documented-aspirin-use\n",
      "http://wayback.archive-it.org/all/20170608152407/https://www.qualitymeasures.ahrq.gov/summaries/summary/50490/cancer-30day-unplanned-readmission-rate-for-cancer-patients\n"
     ]
    }
   ],
   "source": [
    "from urllib.parse import urlparse\n",
    "\n",
    "archivedomains = {}\n",
    "\n",
    "for timemap in timemaps:\n",
    "    \n",
    "    for memento in timemap:\n",
    "        urim = memento['uri']\n",
    "        archivedomain = urlparse(urim).netloc.split(':')[0]\n",
    "        archivedomains.setdefault(archivedomain, 0)\n",
    "        archivedomains[archivedomain] += 1\n",
    "        \n",
    "        if 'archive-it.org' in archivedomain:\n",
    "            print(urim)\n",
    "            break"
   ]
  },
  {
   "cell_type": "code",
   "execution_count": 29,
   "metadata": {},
   "outputs": [
    {
     "data": {
      "text/plain": [
       "{'web.archive.org': 9494, 'wayback.archive-it.org': 216}"
      ]
     },
     "execution_count": 29,
     "metadata": {},
     "output_type": "execute_result"
    }
   ],
   "source": [
    "archivedomains"
   ]
  },
  {
   "cell_type": "code",
   "execution_count": 30,
   "metadata": {},
   "outputs": [
    {
     "data": {
      "text/plain": [
       "9710"
      ]
     },
     "execution_count": 30,
     "metadata": {},
     "output_type": "execute_result"
    }
   ],
   "source": [
    "total_mementos = 0\n",
    "\n",
    "for ad in archivedomains:\n",
    "    count = archivedomains[ad]\n",
    "    total_mementos += count\n",
    "    \n",
    "total_mementos"
   ]
  },
  {
   "cell_type": "code",
   "execution_count": 34,
   "metadata": {},
   "outputs": [
    {
     "data": {
      "image/png": "[encoded data removed]",
      "text/plain": [
       "<Figure size 720x720 with 1 Axes>"
      ]
     },
     "metadata": {},
     "output_type": "display_data"
    }
   ],
   "source": [
    "\"\"\"\n",
    "========\n",
    "Barchart\n",
    "========\n",
    "\n",
    "A bar plot with errorbars and height labels on individual bars\n",
    "\"\"\"\n",
    "import numpy as np\n",
    "import matplotlib.pyplot as plt\n",
    "\n",
    "N = 2\n",
    "archivecounts = (9494, 216)\n",
    "# men_std = (2, 3, 4, 1, 2)\n",
    "\n",
    "ind = np.arange(N)  # the x locations for the groups\n",
    "width = 0.35       # the width of the bars\n",
    "\n",
    "fig, ax = plt.subplots()\n",
    "fig.set_size_inches(10, 10)\n",
    "rects1 = ax.bar(ind, archivecounts, width, align='center', color=\"#b2df8a\")\n",
    "\n",
    "# women_means = (25, 32, 34, 20, 25)\n",
    "# women_std = (3, 5, 2, 3, 3)\n",
    "# rects2 = ax.bar(ind + width, women_means, width, color='y', yerr=women_std)\n",
    "\n",
    "# add some text for labels, title and axes ticks\n",
    "ax.set_ylabel('Count of Mementos')\n",
    "ax.set_title('Count of Mementos Per Archive\\nfor other pages \\n at qualitymeasures.ahrq.gov')\n",
    "ax.set_xticks(ind)\n",
    "ax.set_xticklabels(('Internet Archive', 'Archive-It'))\n",
    "ax.set_ylim(0, 11000)\n",
    "\n",
    "# ax.legend((rects1[0], rects2[0]), ('Men', 'Women'))\n",
    "\n",
    "\n",
    "def autolabel(rects):\n",
    "    \"\"\"\n",
    "    Attach a text label above each bar displaying its height\n",
    "    \"\"\"\n",
    "    for rect in rects:\n",
    "        height = rect.get_height()\n",
    "        ax.text(rect.get_x() + rect.get_width()/2., 1.05*height,\n",
    "                '%d' % int(height),\n",
    "                ha='center', va='bottom')\n",
    "\n",
    "autolabel(rects1)\n",
    "# autolabel(rects2)\n",
    "\n",
    "for tick in ax.get_xticklabels():\n",
    "    tick.set_rotation(45)\n",
    "\n",
    "plt.show()"
   ]
  },
  {
   "cell_type": "code",
   "execution_count": null,
   "metadata": {},
   "outputs": [],
   "source": []
  }
 ],
 "metadata": {
  "kernelspec": {
   "display_name": "Python 3",
   "language": "python",
   "name": "python3"
  },
  "language_info": {
   "codemirror_mode": {
    "name": "ipython",
    "version": 3
   },
   "file_extension": ".py",
   "mimetype": "text/x-python",
   "name": "python",
   "nbconvert_exporter": "python",
   "pygments_lexer": "ipython3",
   "version": "3.7.0"
  }
 },
 "nbformat": 4,
 "nbformat_minor": 2
}
